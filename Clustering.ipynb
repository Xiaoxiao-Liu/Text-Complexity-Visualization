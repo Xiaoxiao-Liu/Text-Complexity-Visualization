{
 "cells": [
  {
   "cell_type": "code",
   "execution_count": 1,
   "metadata": {},
   "outputs": [],
   "source": [
    "# -*- coding: UTF-8 -*-\n",
    "import numpy as np\n",
    "import pandas as pd\n",
    "import jieba\n",
    "import jieba.analyse\n",
    "import codecs\n",
    "import jieba.posseg as pseg \n",
    "import os\n",
    "from sklearn.feature_extraction.text import  TfidfVectorizer\n",
    "from sklearn.cluster import KMeans"
   ]
  },
  {
   "cell_type": "code",
   "execution_count": 2,
   "metadata": {},
   "outputs": [
    {
     "name": "stderr",
     "output_type": "stream",
     "text": [
      "Building prefix dict from the default dictionary ...\n",
      "Loading model from cache /var/folders/89/qp8kb90s49z7xcdskq2c0qlm0000gn/T/jieba.cache\n",
      "Loading model cost 0.689 seconds.\n",
      "Prefix dict has been built succesfully.\n"
     ]
    }
   ],
   "source": [
    "from collections import Counter\n",
    "import jieba\n",
    "jieba.load_userdict('userdict.txt')\n",
    "\n",
    "# 创建停用词list\n",
    "def stopwordslist(filepath):\n",
    "    stopwords = [line.strip() for line in open(filepath, 'r').readlines()]\n",
    "    return stopwords\n",
    "\n",
    "# 对句子进行分词\n",
    "def seg_sentence(sentence):\n",
    "    sentence_seged = jieba.cut(sentence.strip())\n",
    "    stopwords = stopwordslist('stoped.txt')  # 这里加载停用词的路径\n",
    "    outstr = ''\n",
    "    for word in sentence_seged:\n",
    "        if word not in stopwords:\n",
    "            if word != '\\t':\n",
    "                outstr += word\n",
    "                outstr += \" \"\n",
    "    return outstr\n"
   ]
  },
  {
   "cell_type": "code",
   "execution_count": 3,
   "metadata": {},
   "outputs": [
    {
     "data": {
      "text/plain": [
       "'file_name=\\'班主任\\'\\nfile_path = \\'./dataset/raw_texts/\\'+file_name+\\'.txt\\'\\ntext = open(file_path, \\'r\\',encoding=\"utf-8\") #加载要处理的文件的路径\\n#df =pd.read_excel(\\'./dataset/难字词库.xlsx\\') \\n#diff_words = df[\\'词语\\']\\nresult_words = []\\nsent_arr = []\\nwords_arr = []\\nfor block in text:\\n    #print(type(block))\\n    words=list(seg_sentence(block).split(\\' \\'))\\n    #print(words)\\n    for word in words:\\n        #print(word)\\n        words_arr.append(word)'"
      ]
     },
     "execution_count": 3,
     "metadata": {},
     "output_type": "execute_result"
    }
   ],
   "source": [
    "'''file_name='班主任'\n",
    "file_path = './dataset/raw_texts/'+file_name+'.txt'\n",
    "text = open(file_path, 'r',encoding=\"utf-8\") #加载要处理的文件的路径\n",
    "#df =pd.read_excel('./dataset/难字词库.xlsx') \n",
    "#diff_words = df['词语']\n",
    "result_words = []\n",
    "sent_arr = []\n",
    "words_arr = []\n",
    "for block in text:\n",
    "    #print(type(block))\n",
    "    words=list(seg_sentence(block).split(' '))\n",
    "    #print(words)\n",
    "    for word in words:\n",
    "        #print(word)\n",
    "        words_arr.append(word)'''"
   ]
  },
  {
   "cell_type": "code",
   "execution_count": 4,
   "metadata": {},
   "outputs": [],
   "source": [
    "def get_all_vector(file_path,stop_words_set):\n",
    "    names = [ os.path.join(file_path,f) for f in os.listdir(file_path) ]\n",
    "    posts = [ open(name,'rb').read() for name in names ]\n",
    "    docs = []\n",
    "    word_set = set()\n",
    "    rest_words = []\n",
    "    i=0\n",
    "    for post in posts:\n",
    "        #doc = del_stop_words(post,stop_words_set)\n",
    "        doc = list(seg_sentence(post).split(' '))\n",
    "        #print(doc)\n",
    "        docs.append(doc)\n",
    "        word_set |= set(doc)\n",
    "        \n",
    "    word_set = list(word_set)\n",
    "    print(len(word_set))\n",
    "    docs_vsm = []\n",
    "    #for word in word_set[:30]:\n",
    "        #print word.encode(\"utf-8\"),\n",
    "    for doc in docs:\n",
    "        #遍历每篇文章\n",
    "        temp_vector = []\n",
    "        for word in word_set:\n",
    "            i+=1\n",
    "           \n",
    "            rest_words.append(word)\n",
    "            #计算当前文章有多少这个词\n",
    "            temp_vector.append(doc.count(word) * 1.0)\n",
    "        #print temp_vector[-30:-1]\n",
    "        #print(temp_vector)\n",
    "        docs_vsm.append(temp_vector)\n",
    "    print(len(docs_vsm))\n",
    "    docs_matrix = np.array(docs_vsm)\n",
    "    #print(docs_matrix)\n",
    "    column_sum = [ float(len(np.nonzero(docs_matrix[:,i])[0])) for i in range(docs_matrix.shape[1]) ]\n",
    "    column_sum = np.array(column_sum)\n",
    "    column_sum = docs_matrix.shape[0] / column_sum\n",
    "    idf =  np.log(column_sum)\n",
    "    idf =  np.diag(idf)\n",
    "    # 根据IDF的定义，计算词的IDF并不依赖于某个文档，所以我们提前计算好。\n",
    "    # 注意一下计算都是矩阵运算，不是单个变量的运算。\n",
    "    \n",
    "    for doc_v in docs_matrix:\n",
    "        if doc_v.sum() == 0:\n",
    "            doc_v = doc_v / 1\n",
    "        else:\n",
    "            doc_v = doc_v / (doc_v.sum())\n",
    "        tfidf = np.dot(docs_matrix,idf)\n",
    "    return names,tfidf,word_set\n",
    "\n"
   ]
  },
  {
   "cell_type": "code",
   "execution_count": null,
   "metadata": {},
   "outputs": [],
   "source": []
  },
  {
   "cell_type": "code",
   "execution_count": 5,
   "metadata": {},
   "outputs": [
    {
     "name": "stdout",
     "output_type": "stream",
     "text": [
      "3511\n",
      "9\n"
     ]
    }
   ],
   "source": [
    "stopwords = stopwordslist('stoped.txt')\n",
    "files_path = './dataset/raw_texts/'\n",
    "names,tfidf,word_set = get_all_vector(files_path,stopwords)"
   ]
  },
  {
   "cell_type": "code",
   "execution_count": 6,
   "metadata": {},
   "outputs": [
    {
     "data": {
      "text/plain": [
       "['./dataset/raw_texts/.DS_Store',\n",
       " './dataset/raw_texts/high_school_2.txt',\n",
       " './dataset/raw_texts/high_school_1.txt',\n",
       " './dataset/raw_texts/baby_1.txt',\n",
       " './dataset/raw_texts/university_2.txt',\n",
       " './dataset/raw_texts/university_1.txt',\n",
       " './dataset/raw_texts/baby-2.txt',\n",
       " './dataset/raw_texts/primary_1.txt',\n",
       " './dataset/raw_texts/primary_2.txt']"
      ]
     },
     "execution_count": 6,
     "metadata": {},
     "output_type": "execute_result"
    }
   ],
   "source": [
    "names"
   ]
  },
  {
   "cell_type": "code",
   "execution_count": 7,
   "metadata": {},
   "outputs": [
    {
     "data": {
      "text/plain": [
       "\"book_titles = ['恋爱的犀牛剧本','远方飞来了一只红蜻蜓','开市客火爆背后，美国零售业经历过的惨烈搏杀','班主任',\\n               '温柔的夜-三毛','产业基础高级化 发展迈向高质','白雪公主','小美人鱼','老屋小记',\\n               '冯骥才-这个时代文化的使命首先是抢救','过年','春','金童求雨记']\""
      ]
     },
     "execution_count": 7,
     "metadata": {},
     "output_type": "execute_result"
    }
   ],
   "source": [
    "'''book_titles = ['恋爱的犀牛剧本','远方飞来了一只红蜻蜓','开市客火爆背后，美国零售业经历过的惨烈搏杀','班主任',\n",
    "               '温柔的夜-三毛','产业基础高级化 发展迈向高质','白雪公主','小美人鱼','老屋小记',\n",
    "               '冯骥才-这个时代文化的使命首先是抢救','过年','春','金童求雨记']'''"
   ]
  },
  {
   "cell_type": "code",
   "execution_count": 8,
   "metadata": {},
   "outputs": [],
   "source": [
    "book_titles = []\n",
    "for path in names:\n",
    "    title = path.split('.')[1].split('/')[3]\n",
    "    #print(title)\n",
    "    if title != '':\n",
    "        #print(title)\n",
    "        book_titles.append(title)"
   ]
  },
  {
   "cell_type": "code",
   "execution_count": 9,
   "metadata": {},
   "outputs": [],
   "source": [
    "df = pd.DataFrame(tfidf)"
   ]
  },
  {
   "cell_type": "code",
   "execution_count": 10,
   "metadata": {},
   "outputs": [
    {
     "data": {
      "text/html": [
       "<div>\n",
       "<style scoped>\n",
       "    .dataframe tbody tr th:only-of-type {\n",
       "        vertical-align: middle;\n",
       "    }\n",
       "\n",
       "    .dataframe tbody tr th {\n",
       "        vertical-align: top;\n",
       "    }\n",
       "\n",
       "    .dataframe thead th {\n",
       "        text-align: right;\n",
       "    }\n",
       "</style>\n",
       "<table border=\"1\" class=\"dataframe\">\n",
       "  <thead>\n",
       "    <tr style=\"text-align: right;\">\n",
       "      <th></th>\n",
       "      <th>0</th>\n",
       "      <th>1</th>\n",
       "      <th>2</th>\n",
       "      <th>3</th>\n",
       "      <th>4</th>\n",
       "      <th>5</th>\n",
       "      <th>6</th>\n",
       "      <th>7</th>\n",
       "      <th>8</th>\n",
       "      <th>9</th>\n",
       "      <th>...</th>\n",
       "      <th>3501</th>\n",
       "      <th>3502</th>\n",
       "      <th>3503</th>\n",
       "      <th>3504</th>\n",
       "      <th>3505</th>\n",
       "      <th>3506</th>\n",
       "      <th>3507</th>\n",
       "      <th>3508</th>\n",
       "      <th>3509</th>\n",
       "      <th>3510</th>\n",
       "    </tr>\n",
       "  </thead>\n",
       "  <tbody>\n",
       "    <tr>\n",
       "      <th>0</th>\n",
       "      <td>0.0</td>\n",
       "      <td>0.000000</td>\n",
       "      <td>0.000000</td>\n",
       "      <td>0.000000</td>\n",
       "      <td>0.000000</td>\n",
       "      <td>0.000000</td>\n",
       "      <td>0.000000</td>\n",
       "      <td>0.000000</td>\n",
       "      <td>0.000000</td>\n",
       "      <td>0.000000</td>\n",
       "      <td>...</td>\n",
       "      <td>0.000000</td>\n",
       "      <td>0.000000</td>\n",
       "      <td>0.000000</td>\n",
       "      <td>0.000000</td>\n",
       "      <td>0.000000</td>\n",
       "      <td>0.000000</td>\n",
       "      <td>0.000000</td>\n",
       "      <td>0.000000</td>\n",
       "      <td>0.000000</td>\n",
       "      <td>0.000000</td>\n",
       "    </tr>\n",
       "    <tr>\n",
       "      <th>1</th>\n",
       "      <td>0.0</td>\n",
       "      <td>2.197225</td>\n",
       "      <td>0.000000</td>\n",
       "      <td>2.197225</td>\n",
       "      <td>2.197225</td>\n",
       "      <td>2.197225</td>\n",
       "      <td>0.000000</td>\n",
       "      <td>0.000000</td>\n",
       "      <td>2.197225</td>\n",
       "      <td>0.000000</td>\n",
       "      <td>...</td>\n",
       "      <td>2.197225</td>\n",
       "      <td>0.000000</td>\n",
       "      <td>0.000000</td>\n",
       "      <td>0.000000</td>\n",
       "      <td>0.000000</td>\n",
       "      <td>0.000000</td>\n",
       "      <td>2.197225</td>\n",
       "      <td>2.197225</td>\n",
       "      <td>0.000000</td>\n",
       "      <td>1.504077</td>\n",
       "    </tr>\n",
       "    <tr>\n",
       "      <th>2</th>\n",
       "      <td>0.0</td>\n",
       "      <td>0.000000</td>\n",
       "      <td>2.197225</td>\n",
       "      <td>0.000000</td>\n",
       "      <td>0.000000</td>\n",
       "      <td>0.000000</td>\n",
       "      <td>2.197225</td>\n",
       "      <td>0.000000</td>\n",
       "      <td>0.000000</td>\n",
       "      <td>0.000000</td>\n",
       "      <td>...</td>\n",
       "      <td>0.000000</td>\n",
       "      <td>0.000000</td>\n",
       "      <td>0.000000</td>\n",
       "      <td>0.000000</td>\n",
       "      <td>0.000000</td>\n",
       "      <td>0.000000</td>\n",
       "      <td>0.000000</td>\n",
       "      <td>0.000000</td>\n",
       "      <td>1.504077</td>\n",
       "      <td>1.504077</td>\n",
       "    </tr>\n",
       "    <tr>\n",
       "      <th>3</th>\n",
       "      <td>0.0</td>\n",
       "      <td>0.000000</td>\n",
       "      <td>0.000000</td>\n",
       "      <td>0.000000</td>\n",
       "      <td>0.000000</td>\n",
       "      <td>0.000000</td>\n",
       "      <td>0.000000</td>\n",
       "      <td>0.000000</td>\n",
       "      <td>0.000000</td>\n",
       "      <td>0.000000</td>\n",
       "      <td>...</td>\n",
       "      <td>0.000000</td>\n",
       "      <td>0.000000</td>\n",
       "      <td>0.000000</td>\n",
       "      <td>0.000000</td>\n",
       "      <td>0.000000</td>\n",
       "      <td>0.000000</td>\n",
       "      <td>0.000000</td>\n",
       "      <td>0.000000</td>\n",
       "      <td>1.504077</td>\n",
       "      <td>0.000000</td>\n",
       "    </tr>\n",
       "    <tr>\n",
       "      <th>4</th>\n",
       "      <td>0.0</td>\n",
       "      <td>0.000000</td>\n",
       "      <td>0.000000</td>\n",
       "      <td>0.000000</td>\n",
       "      <td>0.000000</td>\n",
       "      <td>0.000000</td>\n",
       "      <td>0.000000</td>\n",
       "      <td>0.000000</td>\n",
       "      <td>0.000000</td>\n",
       "      <td>0.000000</td>\n",
       "      <td>...</td>\n",
       "      <td>0.000000</td>\n",
       "      <td>2.197225</td>\n",
       "      <td>0.000000</td>\n",
       "      <td>0.000000</td>\n",
       "      <td>2.197225</td>\n",
       "      <td>0.000000</td>\n",
       "      <td>0.000000</td>\n",
       "      <td>0.000000</td>\n",
       "      <td>0.000000</td>\n",
       "      <td>0.000000</td>\n",
       "    </tr>\n",
       "    <tr>\n",
       "      <th>5</th>\n",
       "      <td>0.0</td>\n",
       "      <td>0.000000</td>\n",
       "      <td>0.000000</td>\n",
       "      <td>0.000000</td>\n",
       "      <td>0.000000</td>\n",
       "      <td>0.000000</td>\n",
       "      <td>0.000000</td>\n",
       "      <td>2.197225</td>\n",
       "      <td>0.000000</td>\n",
       "      <td>2.197225</td>\n",
       "      <td>...</td>\n",
       "      <td>0.000000</td>\n",
       "      <td>0.000000</td>\n",
       "      <td>4.394449</td>\n",
       "      <td>0.000000</td>\n",
       "      <td>0.000000</td>\n",
       "      <td>0.000000</td>\n",
       "      <td>0.000000</td>\n",
       "      <td>0.000000</td>\n",
       "      <td>0.000000</td>\n",
       "      <td>0.000000</td>\n",
       "    </tr>\n",
       "    <tr>\n",
       "      <th>6</th>\n",
       "      <td>0.0</td>\n",
       "      <td>0.000000</td>\n",
       "      <td>0.000000</td>\n",
       "      <td>0.000000</td>\n",
       "      <td>0.000000</td>\n",
       "      <td>0.000000</td>\n",
       "      <td>0.000000</td>\n",
       "      <td>0.000000</td>\n",
       "      <td>0.000000</td>\n",
       "      <td>0.000000</td>\n",
       "      <td>...</td>\n",
       "      <td>0.000000</td>\n",
       "      <td>0.000000</td>\n",
       "      <td>0.000000</td>\n",
       "      <td>0.000000</td>\n",
       "      <td>0.000000</td>\n",
       "      <td>0.000000</td>\n",
       "      <td>0.000000</td>\n",
       "      <td>0.000000</td>\n",
       "      <td>0.000000</td>\n",
       "      <td>0.000000</td>\n",
       "    </tr>\n",
       "    <tr>\n",
       "      <th>7</th>\n",
       "      <td>0.0</td>\n",
       "      <td>0.000000</td>\n",
       "      <td>0.000000</td>\n",
       "      <td>0.000000</td>\n",
       "      <td>0.000000</td>\n",
       "      <td>0.000000</td>\n",
       "      <td>0.000000</td>\n",
       "      <td>0.000000</td>\n",
       "      <td>0.000000</td>\n",
       "      <td>0.000000</td>\n",
       "      <td>...</td>\n",
       "      <td>0.000000</td>\n",
       "      <td>0.000000</td>\n",
       "      <td>0.000000</td>\n",
       "      <td>0.000000</td>\n",
       "      <td>0.000000</td>\n",
       "      <td>0.000000</td>\n",
       "      <td>0.000000</td>\n",
       "      <td>0.000000</td>\n",
       "      <td>0.000000</td>\n",
       "      <td>0.000000</td>\n",
       "    </tr>\n",
       "    <tr>\n",
       "      <th>8</th>\n",
       "      <td>0.0</td>\n",
       "      <td>0.000000</td>\n",
       "      <td>0.000000</td>\n",
       "      <td>0.000000</td>\n",
       "      <td>0.000000</td>\n",
       "      <td>0.000000</td>\n",
       "      <td>0.000000</td>\n",
       "      <td>0.000000</td>\n",
       "      <td>0.000000</td>\n",
       "      <td>0.000000</td>\n",
       "      <td>...</td>\n",
       "      <td>0.000000</td>\n",
       "      <td>0.000000</td>\n",
       "      <td>0.000000</td>\n",
       "      <td>4.394449</td>\n",
       "      <td>0.000000</td>\n",
       "      <td>2.197225</td>\n",
       "      <td>0.000000</td>\n",
       "      <td>0.000000</td>\n",
       "      <td>0.000000</td>\n",
       "      <td>0.000000</td>\n",
       "    </tr>\n",
       "  </tbody>\n",
       "</table>\n",
       "<p>9 rows × 3511 columns</p>\n",
       "</div>"
      ],
      "text/plain": [
       "   0         1         2         3         4         5         6         7     \\\n",
       "0   0.0  0.000000  0.000000  0.000000  0.000000  0.000000  0.000000  0.000000   \n",
       "1   0.0  2.197225  0.000000  2.197225  2.197225  2.197225  0.000000  0.000000   \n",
       "2   0.0  0.000000  2.197225  0.000000  0.000000  0.000000  2.197225  0.000000   \n",
       "3   0.0  0.000000  0.000000  0.000000  0.000000  0.000000  0.000000  0.000000   \n",
       "4   0.0  0.000000  0.000000  0.000000  0.000000  0.000000  0.000000  0.000000   \n",
       "5   0.0  0.000000  0.000000  0.000000  0.000000  0.000000  0.000000  2.197225   \n",
       "6   0.0  0.000000  0.000000  0.000000  0.000000  0.000000  0.000000  0.000000   \n",
       "7   0.0  0.000000  0.000000  0.000000  0.000000  0.000000  0.000000  0.000000   \n",
       "8   0.0  0.000000  0.000000  0.000000  0.000000  0.000000  0.000000  0.000000   \n",
       "\n",
       "       8         9       ...         3501      3502      3503      3504  \\\n",
       "0  0.000000  0.000000    ...     0.000000  0.000000  0.000000  0.000000   \n",
       "1  2.197225  0.000000    ...     2.197225  0.000000  0.000000  0.000000   \n",
       "2  0.000000  0.000000    ...     0.000000  0.000000  0.000000  0.000000   \n",
       "3  0.000000  0.000000    ...     0.000000  0.000000  0.000000  0.000000   \n",
       "4  0.000000  0.000000    ...     0.000000  2.197225  0.000000  0.000000   \n",
       "5  0.000000  2.197225    ...     0.000000  0.000000  4.394449  0.000000   \n",
       "6  0.000000  0.000000    ...     0.000000  0.000000  0.000000  0.000000   \n",
       "7  0.000000  0.000000    ...     0.000000  0.000000  0.000000  0.000000   \n",
       "8  0.000000  0.000000    ...     0.000000  0.000000  0.000000  4.394449   \n",
       "\n",
       "       3505      3506      3507      3508      3509      3510  \n",
       "0  0.000000  0.000000  0.000000  0.000000  0.000000  0.000000  \n",
       "1  0.000000  0.000000  2.197225  2.197225  0.000000  1.504077  \n",
       "2  0.000000  0.000000  0.000000  0.000000  1.504077  1.504077  \n",
       "3  0.000000  0.000000  0.000000  0.000000  1.504077  0.000000  \n",
       "4  2.197225  0.000000  0.000000  0.000000  0.000000  0.000000  \n",
       "5  0.000000  0.000000  0.000000  0.000000  0.000000  0.000000  \n",
       "6  0.000000  0.000000  0.000000  0.000000  0.000000  0.000000  \n",
       "7  0.000000  0.000000  0.000000  0.000000  0.000000  0.000000  \n",
       "8  0.000000  2.197225  0.000000  0.000000  0.000000  0.000000  \n",
       "\n",
       "[9 rows x 3511 columns]"
      ]
     },
     "execution_count": 10,
     "metadata": {},
     "output_type": "execute_result"
    }
   ],
   "source": [
    "df"
   ]
  },
  {
   "cell_type": "code",
   "execution_count": 11,
   "metadata": {},
   "outputs": [],
   "source": [
    "#df['文本标题']=book_titles\n",
    "#df = df.set_index('文本标题')"
   ]
  },
  {
   "cell_type": "code",
   "execution_count": 12,
   "metadata": {},
   "outputs": [],
   "source": [
    "df = df.T\n"
   ]
  },
  {
   "cell_type": "code",
   "execution_count": 13,
   "metadata": {},
   "outputs": [],
   "source": [
    "df['词语'] = word_set"
   ]
  },
  {
   "cell_type": "code",
   "execution_count": 14,
   "metadata": {},
   "outputs": [],
   "source": [
    "new_df = df.set_index('词语')"
   ]
  },
  {
   "cell_type": "code",
   "execution_count": 15,
   "metadata": {},
   "outputs": [],
   "source": [
    "#tmp_df = new_df.sort_values(by = '冯骥才-这个时代文化的使命首先是抢救',axis = 0,ascending = False)\n",
    "#tmp_df.head(10)"
   ]
  },
  {
   "cell_type": "code",
   "execution_count": 16,
   "metadata": {},
   "outputs": [
    {
     "data": {
      "text/plain": [
       "['high_school_2',\n",
       " 'high_school_1',\n",
       " 'baby_1',\n",
       " 'university_2',\n",
       " 'university_1',\n",
       " 'baby-2',\n",
       " 'primary_1',\n",
       " 'primary_2']"
      ]
     },
     "execution_count": 16,
     "metadata": {},
     "output_type": "execute_result"
    }
   ],
   "source": [
    "book_titles"
   ]
  },
  {
   "cell_type": "code",
   "execution_count": 19,
   "metadata": {
    "scrolled": false
   },
   "outputs": [
    {
     "data": {
      "text/plain": [
       "'for book_title in tmp_df.columns:\\n    print(book_title)\\n    kw_dict = tmp_df[[book_title]].sort_values(by = book_title,axis = 0,ascending = False).head(20).T.to_dict(orient=\"list\")\\n    print(kw_dict)'"
      ]
     },
     "execution_count": 19,
     "metadata": {},
     "output_type": "execute_result"
    }
   ],
   "source": [
    "\n",
    "'''for book_title in tmp_df.columns:\n",
    "    print(book_title)\n",
    "    kw_dict = tmp_df[[book_title]].sort_values(by = book_title,axis = 0,ascending = False).head(20).T.to_dict(orient=\"list\")\n",
    "    print(kw_dict)'''\n",
    "    #print(kw_dict.keys())\n",
    "    #print(kw_dict.values())\n",
    "#    print(tmp_df[book_title].sort_values(ascending = False))\n",
    "    "
   ]
  },
  {
   "cell_type": "code",
   "execution_count": 20,
   "metadata": {},
   "outputs": [],
   "source": [
    "#kw_dict = tmp_df[['小美人鱼']].sort_values(by = '小美人鱼',axis = 0,ascending = False).head(70).T.to_dict(orient=\"list\")\n",
    "#kw_dict"
   ]
  },
  {
   "cell_type": "code",
   "execution_count": null,
   "metadata": {},
   "outputs": [],
   "source": []
  },
  {
   "cell_type": "code",
   "execution_count": 68,
   "metadata": {},
   "outputs": [],
   "source": [
    "num_clusters = 5\n",
    "km_cluster = KMeans(n_clusters=num_clusters, max_iter=30, n_init=10, \\\n",
    "                    init='k-means++',n_jobs=10)\n",
    "\n",
    "'''\n",
    "n_clusters: 指定K的值\n",
    "max_iter: 对于单次初始值计算的最大迭代次数\n",
    "n_init: 重新选择初始值的次数\n",
    "init: 制定初始值选择的算法\n",
    "n_jobs: 进程个数，为-1的时候是指默认跑满CPU\n",
    "注意，这个对于单个初始值的计算始终只会使用单进程计算，\n",
    "并行计算只是针对与不同初始值的计算。比如n_init=10，n_jobs=40, \n",
    "服务器上面有20个CPU可以开40个进程，最终只会开10个进程\n",
    "'''\n",
    "#返回各自文本的所被分配到的类索引\n",
    "result = km_cluster.fit_predict(tfidf)\n"
   ]
  },
  {
   "cell_type": "code",
   "execution_count": 69,
   "metadata": {},
   "outputs": [
    {
     "data": {
      "text/plain": [
       "array([1, 2, 0, 0, 0, 3, 4, 0, 0], dtype=int32)"
      ]
     },
     "execution_count": 69,
     "metadata": {},
     "output_type": "execute_result"
    }
   ],
   "source": [
    "result"
   ]
  },
  {
   "cell_type": "code",
   "execution_count": 70,
   "metadata": {},
   "outputs": [
    {
     "data": {
      "text/plain": [
       "['./dataset/raw_texts/.DS_Store',\n",
       " './dataset/raw_texts/high_school_2.txt',\n",
       " './dataset/raw_texts/high_school_1.txt',\n",
       " './dataset/raw_texts/baby_1.txt',\n",
       " './dataset/raw_texts/university_2.txt',\n",
       " './dataset/raw_texts/university_1.txt',\n",
       " './dataset/raw_texts/baby-2.txt',\n",
       " './dataset/raw_texts/primary_1.txt',\n",
       " './dataset/raw_texts/primary_2.txt']"
      ]
     },
     "execution_count": 70,
     "metadata": {},
     "output_type": "execute_result"
    }
   ],
   "source": [
    "names"
   ]
  },
  {
   "cell_type": "code",
   "execution_count": 71,
   "metadata": {},
   "outputs": [
    {
     "data": {
      "text/plain": [
       "numpy.ndarray"
      ]
     },
     "execution_count": 71,
     "metadata": {},
     "output_type": "execute_result"
    }
   ],
   "source": [
    "from sklearn.metrics.pairwise import cosine_similarity\n",
    "#Note that 有了 dist 就可以测量任意两个或多个概要之间的相似性.\n",
    "#cosine_similarity返回An array with shape (n_samples_X, n_samples_Y)\n",
    "dist = 1 - cosine_similarity(tfidf)\n",
    "type(dist)"
   ]
  },
  {
   "cell_type": "code",
   "execution_count": 72,
   "metadata": {},
   "outputs": [
    {
     "name": "stdout",
     "output_type": "stream",
     "text": [
      "[[ 1.          6.          1.26064054  2.        ]\n",
      " [ 2.          9.          1.35081005  3.        ]\n",
      " [ 5.          7.          1.35393958  2.        ]\n",
      " [ 4.         10.          1.3665802   4.        ]\n",
      " [ 8.         12.          1.38164868  5.        ]\n",
      " [11.         13.          1.38836022  7.        ]\n",
      " [ 3.         14.          1.40292148  8.        ]\n",
      " [ 0.         15.          1.41431899  9.        ]]\n",
      "0 ./dataset/raw_texts/.DS_Store\n",
      "1 ./dataset/raw_texts/high_school_2.txt\n",
      "2 ./dataset/raw_texts/high_school_1.txt\n",
      "3 ./dataset/raw_texts/baby_1.txt\n",
      "4 ./dataset/raw_texts/university_2.txt\n",
      "5 ./dataset/raw_texts/university_1.txt\n",
      "6 ./dataset/raw_texts/baby-2.txt\n",
      "7 ./dataset/raw_texts/primary_1.txt\n",
      "8 ./dataset/raw_texts/primary_2.txt\n"
     ]
    }
   ],
   "source": [
    "from scipy.cluster.hierarchy import ward, dendrogram, linkage\n",
    "import matplotlib.pyplot as plt\n",
    "plt.rcParams['font.sans-serif']=['Microsoft YaHei'] #用来正常显示中文标签\n",
    "#Perform Ward's linkage on a condensed distance matrix.\n",
    "#linkage_matrix = ward(dist) #define the linkage_matrix using ward clustering pre-computed distances\n",
    "#Method 'ward' requires the distance metric to be Euclidean\n",
    "linkage_matrix = linkage(dist, method='single', metric='euclidean', optimal_ordering=False)\n",
    "#Z[i] will tell us which clusters were merged, let's take a look at the first two points that were merged\n",
    "#We can see that ach row of the resulting array has the format [idx1, idx2, dist, sample_count]\n",
    "print(linkage_matrix)\n",
    "for index, name in enumerate(names):\n",
    "    print(index, name)\n"
   ]
  },
  {
   "cell_type": "code",
   "execution_count": 76,
   "metadata": {},
   "outputs": [
    {
     "name": "stdout",
     "output_type": "stream",
     "text": [
      "1.2606405419566298\n",
      "1.3508100521699506\n",
      "1.3539395838738402\n",
      "1.3665801971183202\n",
      "1.3816486849895264\n",
      "1.3883602244868056\n",
      "1.4029214840395783\n",
      "1.4143189880843583\n"
     ]
    }
   ],
   "source": [
    "for ele in linkage_matrix:\n",
    "    print(ele[2])"
   ]
  },
  {
   "cell_type": "code",
   "execution_count": 73,
   "metadata": {},
   "outputs": [
    {
     "name": "stderr",
     "output_type": "stream",
     "text": [
      "/anaconda3/lib/python3.6/site-packages/matplotlib/font_manager.py:1328: UserWarning: findfont: Font family ['sans-serif'] not found. Falling back to DejaVu Sans\n",
      "  (prop.get_family(), self.defaultFamily[fontext]))\n"
     ]
    },
    {
     "data": {
      "image/png": "[encoded data removed]",
      "text/plain": [
       "<Figure size 1800x720 with 1 Axes>"
      ]
     },
     "metadata": {},
     "output_type": "display_data"
    }
   ],
   "source": [
    "\n",
    "import matplotlib.pyplot as plt\n",
    " \n",
    "from pylab import *\n",
    "#plt.rcParams['font.sans-serif'] = ['SimHei']\n",
    "\n",
    "plt.figure(figsize=(25, 10))\n",
    "#plt.title('中文文本层次聚类树状图')\n",
    "\n",
    "plt.title('Hierarchical Clustering Tree Graph of Chinese Text')\n",
    "plt.xlabel('Titles')\n",
    "plt.ylabel('Distance（Lower level means higer similarity）')\n",
    "dendrogram(\n",
    "    linkage_matrix,\n",
    "    labels=names, \n",
    "    leaf_rotation=-70,  # rotates the x axis labels\n",
    "    leaf_font_size=22  # font size for the x axis labels\n",
    ")\n",
    "plt.show()\n",
    "plt.close()\n",
    "\n"
   ]
  },
  {
   "cell_type": "code",
   "execution_count": null,
   "metadata": {},
   "outputs": [],
   "source": []
  }
 ],
 "metadata": {
  "kernelspec": {
   "display_name": "Python 3",
   "language": "python",
   "name": "python3"
  },
  "language_info": {
   "codemirror_mode": {
    "name": "ipython",
    "version": 3
   },
   "file_extension": ".py",
   "mimetype": "text/x-python",
   "name": "python",
   "nbconvert_exporter": "python",
   "pygments_lexer": "ipython3",
   "version": "3.6.5"
  }
 },
 "nbformat": 4,
 "nbformat_minor": 2
}
