{
 "cells": [
  {
   "cell_type": "code",
   "execution_count": 1,
   "metadata": {},
   "outputs": [],
   "source": [
    "# -*- coding: UTF-8 -*-\n",
    "import numpy as np\n",
    "import pandas as pd\n",
    "import jieba\n",
    "import jieba.analyse\n",
    "import codecs\n",
    "import jieba.posseg as pseg \n",
    "import os\n",
    "from sklearn.cluster import KMeans\n",
    "import re\n",
    "from sklearn.feature_extraction.text import CountVectorizer\n",
    "from sklearn.feature_extraction.text import TfidfTransformer  \n",
    "\n",
    "import datetime\n"
   ]
  },
  {
   "cell_type": "code",
   "execution_count": 2,
   "metadata": {},
   "outputs": [
    {
     "name": "stderr",
     "output_type": "stream",
     "text": [
      "Building prefix dict from the default dictionary ...\n",
      "Loading model from cache /var/folders/89/qp8kb90s49z7xcdskq2c0qlm0000gn/T/jieba.cache\n",
      "Loading model cost 0.624 seconds.\n",
      "Prefix dict has been built succesfully.\n"
     ]
    }
   ],
   "source": [
    "from collections import Counter\n",
    "import jieba\n",
    "jieba.load_userdict('userdict.txt')\n",
    "\n",
    "# 创建停用词list\n",
    "def stopwordslist(filepath):\n",
    "    stopwords = [line.strip() for line in open(filepath, 'r').readlines()]\n",
    "    return stopwords\n",
    "\n",
    "# 对句子进行分词\n",
    "def seg_sentence(text):\n",
    "    r1 = '[a-zA-Z0-9’!\"#$%&\\'()*+,-./:;<=>?@，。?★、…【】《》？“”‘’！[\\\\]^_`{|}~]+'\n",
    "    # 利用正则过滤掉数字、特殊字符和英文字母\n",
    "    text_processed = re.sub(r1, '', text)\n",
    "    sentence_seged = jieba.cut(text_processed.strip())\n",
    "    stopwords = stopwordslist('stoped.txt')  # 这里加载停用词的路径\n",
    "    outstr = ''\n",
    "    for word in sentence_seged:\n",
    "        if word not in stopwords:\n",
    "            if word != '\\t':\n",
    "                outstr += word\n",
    "                outstr += \" \"\n",
    "    \n",
    "    return outstr\n"
   ]
  },
  {
   "cell_type": "code",
   "execution_count": null,
   "metadata": {},
   "outputs": [],
   "source": []
  },
  {
   "cell_type": "code",
   "execution_count": null,
   "metadata": {},
   "outputs": [],
   "source": []
  },
  {
   "cell_type": "code",
   "execution_count": 17,
   "metadata": {},
   "outputs": [],
   "source": [
    "#tmp_df = new_df.sort_values(by = '冯骥才-这个时代文化的使命首先是抢救',axis = 0,ascending = False)\n",
    "#tmp_df.head(10)"
   ]
  },
  {
   "cell_type": "code",
   "execution_count": null,
   "metadata": {},
   "outputs": [],
   "source": []
  },
  {
   "cell_type": "markdown",
   "metadata": {},
   "source": [
    "# File Path "
   ]
  },
  {
   "cell_type": "code",
   "execution_count": 45,
   "metadata": {},
   "outputs": [],
   "source": [
    "stopwords = stopwordslist('stoped.txt')\n",
    "files_path = './dataset/stories/'\n",
    "\n",
    "names = [ os.path.join(files_path,f) for f in os.listdir(files_path) ]\n",
    "posts = [ open(name,'r').read() for name in names ]\n",
    "\n"
   ]
  },
  {
   "cell_type": "markdown",
   "metadata": {},
   "source": [
    "# Get list for all text"
   ]
  },
  {
   "cell_type": "code",
   "execution_count": 46,
   "metadata": {},
   "outputs": [],
   "source": [
    "def get_docs(names,posts):\n",
    "    docs = []\n",
    "    i=0\n",
    "    for post in posts:\n",
    "        #doc = list(seg_sentence(post).strip().split(' '))\n",
    "        doc = seg_sentence(post).strip()\n",
    "        docs.append(doc)\n",
    "    #print(docs)\n",
    "    return docs"
   ]
  },
  {
   "cell_type": "code",
   "execution_count": 49,
   "metadata": {},
   "outputs": [
    {
     "name": "stdout",
     "output_type": "stream",
     "text": [
      "0:01:31.798432\n"
     ]
    }
   ],
   "source": [
    "# Count the time spent on this function\n",
    "start = datetime.datetime.now()\n",
    "corpus = get_docs(names,posts)\n",
    "end = datetime.datetime.now()\n",
    "print(end - start)"
   ]
  },
  {
   "cell_type": "markdown",
   "metadata": {},
   "source": [
    "# process text to count Tf-Idf "
   ]
  },
  {
   "cell_type": "code",
   "execution_count": 50,
   "metadata": {
    "scrolled": false
   },
   "outputs": [
    {
     "name": "stdout",
     "output_type": "stream",
     "text": [
      "0:00:02.545209\n"
     ]
    }
   ],
   "source": [
    "start = datetime.datetime.now()\n",
    "#将文本中的词语转换为词频矩阵\n",
    "vectorizer = CountVectorizer()\n",
    "#计算个词语出现的次数\n",
    "X = vectorizer.fit_transform(corpus)\n",
    "#获取词袋中所有文本关键词\n",
    "word = vectorizer.get_feature_names()\n",
    "end = datetime.datetime.now()\n",
    "print(end - start)"
   ]
  },
  {
   "cell_type": "code",
   "execution_count": 51,
   "metadata": {},
   "outputs": [
    {
     "name": "stdout",
     "output_type": "stream",
     "text": [
      "TfidfTransformer(norm='l2', smooth_idf=True, sublinear_tf=False, use_idf=True)\n",
      "[[0. 0. 0. ... 0. 0. 0.]\n",
      " [0. 0. 0. ... 0. 0. 0.]\n",
      " [0. 0. 0. ... 0. 0. 0.]\n",
      " ...\n",
      " [0. 0. 0. ... 0. 0. 0.]\n",
      " [0. 0. 0. ... 0. 0. 0.]\n",
      " [0. 0. 0. ... 0. 0. 0.]]\n",
      "0:00:02.483072\n"
     ]
    }
   ],
   "source": [
    "start = datetime.datetime.now()\n",
    "#类调用  \n",
    "transformer = TfidfTransformer()  \n",
    "print(transformer)  \n",
    "#将词频矩阵X统计成TF-IDF值  \n",
    "tf_idf = transformer.fit_transform(X)  \n",
    "#查看数据结构 tfidf[i][j]表示i类文本中的tf-idf权重  \n",
    "print(tf_idf.toarray())  \n",
    "end = datetime.datetime.now()\n",
    "print(end - start)"
   ]
  },
  {
   "cell_type": "code",
   "execution_count": null,
   "metadata": {},
   "outputs": [],
   "source": []
  },
  {
   "cell_type": "code",
   "execution_count": 52,
   "metadata": {},
   "outputs": [
    {
     "data": {
      "text/plain": [
       "155674"
      ]
     },
     "execution_count": 52,
     "metadata": {},
     "output_type": "execute_result"
    }
   ],
   "source": [
    "len(word)"
   ]
  },
  {
   "cell_type": "code",
   "execution_count": 53,
   "metadata": {},
   "outputs": [],
   "source": [
    "X_df = pd.DataFrame(tf_idf.toarray())"
   ]
  },
  {
   "cell_type": "code",
   "execution_count": 54,
   "metadata": {},
   "outputs": [],
   "source": [
    "book_titles = []\n",
    "for path in names:\n",
    "    title = path.split('.')[1].split('/')[3]\n",
    "    #print(title)\n",
    "    if title != '':\n",
    "        #print(title)\n",
    "        book_titles.append(title)"
   ]
  },
  {
   "cell_type": "code",
   "execution_count": 55,
   "metadata": {},
   "outputs": [
    {
     "name": "stdout",
     "output_type": "stream",
     "text": [
      "0:01:19.738162\n"
     ]
    },
    {
     "data": {
      "text/html": [
       "<div>\n",
       "<style scoped>\n",
       "    .dataframe tbody tr th:only-of-type {\n",
       "        vertical-align: middle;\n",
       "    }\n",
       "\n",
       "    .dataframe tbody tr th {\n",
       "        vertical-align: top;\n",
       "    }\n",
       "\n",
       "    .dataframe thead th {\n",
       "        text-align: right;\n",
       "    }\n",
       "</style>\n",
       "<table border=\"1\" class=\"dataframe\">\n",
       "  <thead>\n",
       "    <tr style=\"text-align: right;\">\n",
       "      <th>titles</th>\n",
       "      <th>聪明的老公鸡</th>\n",
       "      <th>谁偷了金钗</th>\n",
       "      <th>到祖父身边的路上</th>\n",
       "      <th>害群之马</th>\n",
       "      <th>狼和绵羊</th>\n",
       "      <th>乡下青年想公主</th>\n",
       "      <th>瘸子和小流氓</th>\n",
       "      <th>银子和歌声</th>\n",
       "      <th>硬治驼背</th>\n",
       "      <th>猫和鼠的爱情</th>\n",
       "      <th>...</th>\n",
       "      <th>算命先生</th>\n",
       "      <th>陷阱里的豹</th>\n",
       "      <th>吃不腻无花果的公主</th>\n",
       "      <th>鸳鸯成双不分离</th>\n",
       "      <th>活力在人间旅行</th>\n",
       "      <th>三只熊</th>\n",
       "      <th>樊妃三劝楚庄王</th>\n",
       "      <th>圣母的小酒杯</th>\n",
       "      <th>牡丹王</th>\n",
       "      <th>两位贵客</th>\n",
       "    </tr>\n",
       "    <tr>\n",
       "      <th>words</th>\n",
       "      <th></th>\n",
       "      <th></th>\n",
       "      <th></th>\n",
       "      <th></th>\n",
       "      <th></th>\n",
       "      <th></th>\n",
       "      <th></th>\n",
       "      <th></th>\n",
       "      <th></th>\n",
       "      <th></th>\n",
       "      <th></th>\n",
       "      <th></th>\n",
       "      <th></th>\n",
       "      <th></th>\n",
       "      <th></th>\n",
       "      <th></th>\n",
       "      <th></th>\n",
       "      <th></th>\n",
       "      <th></th>\n",
       "      <th></th>\n",
       "      <th></th>\n",
       "    </tr>\n",
       "  </thead>\n",
       "  <tbody>\n",
       "    <tr>\n",
       "      <th>一一二</th>\n",
       "      <td>0.0</td>\n",
       "      <td>0.0</td>\n",
       "      <td>0.0</td>\n",
       "      <td>0.0</td>\n",
       "      <td>0.0</td>\n",
       "      <td>0.0</td>\n",
       "      <td>0.0</td>\n",
       "      <td>0.0</td>\n",
       "      <td>0.0</td>\n",
       "      <td>0.0</td>\n",
       "      <td>...</td>\n",
       "      <td>0.0</td>\n",
       "      <td>0.0</td>\n",
       "      <td>0.0</td>\n",
       "      <td>0.0</td>\n",
       "      <td>0.0</td>\n",
       "      <td>0.0</td>\n",
       "      <td>0.0</td>\n",
       "      <td>0.0</td>\n",
       "      <td>0.0</td>\n",
       "      <td>0.0</td>\n",
       "    </tr>\n",
       "    <tr>\n",
       "      <th>一一列举</th>\n",
       "      <td>0.0</td>\n",
       "      <td>0.0</td>\n",
       "      <td>0.0</td>\n",
       "      <td>0.0</td>\n",
       "      <td>0.0</td>\n",
       "      <td>0.0</td>\n",
       "      <td>0.0</td>\n",
       "      <td>0.0</td>\n",
       "      <td>0.0</td>\n",
       "      <td>0.0</td>\n",
       "      <td>...</td>\n",
       "      <td>0.0</td>\n",
       "      <td>0.0</td>\n",
       "      <td>0.0</td>\n",
       "      <td>0.0</td>\n",
       "      <td>0.0</td>\n",
       "      <td>0.0</td>\n",
       "      <td>0.0</td>\n",
       "      <td>0.0</td>\n",
       "      <td>0.0</td>\n",
       "      <td>0.0</td>\n",
       "    </tr>\n",
       "    <tr>\n",
       "      <th>一一对</th>\n",
       "      <td>0.0</td>\n",
       "      <td>0.0</td>\n",
       "      <td>0.0</td>\n",
       "      <td>0.0</td>\n",
       "      <td>0.0</td>\n",
       "      <td>0.0</td>\n",
       "      <td>0.0</td>\n",
       "      <td>0.0</td>\n",
       "      <td>0.0</td>\n",
       "      <td>0.0</td>\n",
       "      <td>...</td>\n",
       "      <td>0.0</td>\n",
       "      <td>0.0</td>\n",
       "      <td>0.0</td>\n",
       "      <td>0.0</td>\n",
       "      <td>0.0</td>\n",
       "      <td>0.0</td>\n",
       "      <td>0.0</td>\n",
       "      <td>0.0</td>\n",
       "      <td>0.0</td>\n",
       "      <td>0.0</td>\n",
       "    </tr>\n",
       "    <tr>\n",
       "      <th>一一记</th>\n",
       "      <td>0.0</td>\n",
       "      <td>0.0</td>\n",
       "      <td>0.0</td>\n",
       "      <td>0.0</td>\n",
       "      <td>0.0</td>\n",
       "      <td>0.0</td>\n",
       "      <td>0.0</td>\n",
       "      <td>0.0</td>\n",
       "      <td>0.0</td>\n",
       "      <td>0.0</td>\n",
       "      <td>...</td>\n",
       "      <td>0.0</td>\n",
       "      <td>0.0</td>\n",
       "      <td>0.0</td>\n",
       "      <td>0.0</td>\n",
       "      <td>0.0</td>\n",
       "      <td>0.0</td>\n",
       "      <td>0.0</td>\n",
       "      <td>0.0</td>\n",
       "      <td>0.0</td>\n",
       "      <td>0.0</td>\n",
       "    </tr>\n",
       "    <tr>\n",
       "      <th>一一道来</th>\n",
       "      <td>0.0</td>\n",
       "      <td>0.0</td>\n",
       "      <td>0.0</td>\n",
       "      <td>0.0</td>\n",
       "      <td>0.0</td>\n",
       "      <td>0.0</td>\n",
       "      <td>0.0</td>\n",
       "      <td>0.0</td>\n",
       "      <td>0.0</td>\n",
       "      <td>0.0</td>\n",
       "      <td>...</td>\n",
       "      <td>0.0</td>\n",
       "      <td>0.0</td>\n",
       "      <td>0.0</td>\n",
       "      <td>0.0</td>\n",
       "      <td>0.0</td>\n",
       "      <td>0.0</td>\n",
       "      <td>0.0</td>\n",
       "      <td>0.0</td>\n",
       "      <td>0.0</td>\n",
       "      <td>0.0</td>\n",
       "    </tr>\n",
       "  </tbody>\n",
       "</table>\n",
       "<p>5 rows × 7353 columns</p>\n",
       "</div>"
      ],
      "text/plain": [
       "titles  聪明的老公鸡  谁偷了金钗  到祖父身边的路上  害群之马  狼和绵羊  乡下青年想公主  瘸子和小流氓  银子和歌声  硬治驼背  \\\n",
       "words                                                                       \n",
       "一一二        0.0    0.0       0.0   0.0   0.0      0.0     0.0    0.0   0.0   \n",
       "一一列举       0.0    0.0       0.0   0.0   0.0      0.0     0.0    0.0   0.0   \n",
       "一一对        0.0    0.0       0.0   0.0   0.0      0.0     0.0    0.0   0.0   \n",
       "一一记        0.0    0.0       0.0   0.0   0.0      0.0     0.0    0.0   0.0   \n",
       "一一道来       0.0    0.0       0.0   0.0   0.0      0.0     0.0    0.0   0.0   \n",
       "\n",
       "titles  猫和鼠的爱情  ...   算命先生  陷阱里的豹  吃不腻无花果的公主  鸳鸯成双不分离  活力在人间旅行  三只熊  樊妃三劝楚庄王  \\\n",
       "words           ...                                                            \n",
       "一一二        0.0  ...    0.0    0.0        0.0      0.0      0.0  0.0      0.0   \n",
       "一一列举       0.0  ...    0.0    0.0        0.0      0.0      0.0  0.0      0.0   \n",
       "一一对        0.0  ...    0.0    0.0        0.0      0.0      0.0  0.0      0.0   \n",
       "一一记        0.0  ...    0.0    0.0        0.0      0.0      0.0  0.0      0.0   \n",
       "一一道来       0.0  ...    0.0    0.0        0.0      0.0      0.0  0.0      0.0   \n",
       "\n",
       "titles  圣母的小酒杯  牡丹王  两位贵客  \n",
       "words                      \n",
       "一一二        0.0  0.0   0.0  \n",
       "一一列举       0.0  0.0   0.0  \n",
       "一一对        0.0  0.0   0.0  \n",
       "一一记        0.0  0.0   0.0  \n",
       "一一道来       0.0  0.0   0.0  \n",
       "\n",
       "[5 rows x 7353 columns]"
      ]
     },
     "execution_count": 55,
     "metadata": {},
     "output_type": "execute_result"
    }
   ],
   "source": [
    "start = datetime.datetime.now()\n",
    "X_df['titles']=book_titles\n",
    "X_df = X_df.set_index('titles')\n",
    "X_df = X_df.T\n",
    "X_df['words'] = word\n",
    "new_Xdf = X_df.set_index('words')\n",
    "end = datetime.datetime.now()\n",
    "print(end - start)\n",
    "new_Xdf.head()"
   ]
  },
  {
   "cell_type": "markdown",
   "metadata": {},
   "source": [
    "# Results for tf-idf for one column"
   ]
  },
  {
   "cell_type": "code",
   "execution_count": 57,
   "metadata": {},
   "outputs": [
    {
     "name": "stdout",
     "output_type": "stream",
     "text": [
      "{'孙武': 0.7610985389380697, '吴王': 0.4178710883262005, '看过': 0.12533803169578545, '长戟': 0.11373558870199252, '宫姬': 0.11373558870199252, '十三篇': 0.10872836270543854, '左向右': 0.10517567932253491, '孙子兵法': 0.10517567932253491, '女兵': 0.10517567932253491, '向前': 0.10515592319231357, '两队': 0.10242000400359766, '一百八十': 0.09826479435266276, '学家': 0.09826479435266276, '时侯': 0.09386009462414005, '兵法': 0.0866013179499693, '心胸': 0.08469765897665114, '发问': 0.08206016005055912, '军事': 0.07949595118416208, '分为': 0.0783893002748103, '队长': 0.0783893002748103, '携带': 0.07303418257395769, '试验': 0.07074457535216426, '训练': 0.0696542200319096, '春秋': 0.06914313997569826, '左手': 0.06632089124048363, '宠爱': 0.06567418124441779, '美女': 0.06447427319450008, '右手': 0.0624729904810773, '妇女': 0.05901793083827833, '队伍': 0.05872734475334018, '宫中': 0.05837347129120499, '军队': 0.058029456321771755, '召集': 0.057498220058558265, '著名': 0.056803188947412625, '试试': 0.05530095227630886, '知道': 0.04697638347173939, '每个': 0.044530361552108426, '是不是': 0.04384472531794291, '之后': 0.03878026010506976, '一位': 0.033616980651215184, '两个': 0.03242630028494815, '官棒': 0.0, '官大官': 0.0, '定好点': 0.0, '官架子': 0.0, '官来': 0.0, '官姓': 0.0, '定婚': 0.0, '官殿': 0.0, '定定': 0.0, '官服': 0.0, '官有': 0.0, '官是': 0.0, '官星': 0.0, '定好': 0.0, '定国': 0.0, '定夺': 0.0, '定型': 0.0, '官方网站': 0.0, '官民': 0.0, '官气': 0.0, '官汪雷': 0.0, '官清': 0.0, '定向': 0.0, '官渡': 0.0, '官爵': 0.0, '官牢': 0.0, '官牢何': 0.0, '官王振': 0.0, '官用': 0.0}\n"
     ]
    }
   ],
   "source": [
    "# 70代表取前70个结果展示\n",
    "x = (new_Xdf['三令五申']).sort_values(ascending = False).head(70).T.to_dict()\n",
    "print(x)"
   ]
  },
  {
   "cell_type": "code",
   "execution_count": null,
   "metadata": {},
   "outputs": [],
   "source": []
  },
  {
   "cell_type": "code",
   "execution_count": null,
   "metadata": {},
   "outputs": [],
   "source": []
  },
  {
   "cell_type": "code",
   "execution_count": null,
   "metadata": {},
   "outputs": [],
   "source": []
  },
  {
   "cell_type": "markdown",
   "metadata": {},
   "source": [
    "# 开始聚类"
   ]
  },
  {
   "cell_type": "code",
   "execution_count": 25,
   "metadata": {},
   "outputs": [],
   "source": [
    "num_clusters = 5\n",
    "km_cluster = KMeans(n_clusters=num_clusters, max_iter=30, n_init=10, \\\n",
    "                    init='k-means++',n_jobs=10)\n",
    "\n",
    "'''\n",
    "n_clusters: 指定K的值\n",
    "max_iter: 对于单次初始值计算的最大迭代次数\n",
    "n_init: 重新选择初始值的次数\n",
    "init: 制定初始值选择的算法\n",
    "n_jobs: 进程个数，为-1的时候是指默认跑满CPU\n",
    "注意，这个对于单个初始值的计算始终只会使用单进程计算，\n",
    "并行计算只是针对与不同初始值的计算。比如n_init=10，n_jobs=40, \n",
    "服务器上面有20个CPU可以开40个进程，最终只会开10个进程\n",
    "'''\n",
    "#返回各自文本的所被分配到的类索引\n",
    "result = km_cluster.fit_predict(tf_idf)\n"
   ]
  },
  {
   "cell_type": "code",
   "execution_count": 26,
   "metadata": {},
   "outputs": [
    {
     "data": {
      "text/plain": [
       "array([2, 1, 2, 4, 2, 2, 2, 1, 1, 4, 2, 3, 2, 3, 2, 0], dtype=int32)"
      ]
     },
     "execution_count": 26,
     "metadata": {},
     "output_type": "execute_result"
    }
   ],
   "source": [
    "result"
   ]
  },
  {
   "cell_type": "code",
   "execution_count": 27,
   "metadata": {},
   "outputs": [
    {
     "data": {
      "text/plain": [
       "['./dataset/story/三令五申.txt',\n",
       " './dataset/story/三个金苹果.txt',\n",
       " './dataset/story/三兄弟.txt',\n",
       " './dataset/story/三代国王传奇.txt',\n",
       " './dataset/story/三兄弟的故事.txt',\n",
       " './dataset/story/三个说大话的人和一个穿孔铜钱.txt',\n",
       " './dataset/story/三兄弟寻找财富.txt',\n",
       " './dataset/story/三个阿訇.txt',\n",
       " './dataset/story/三兄弟和一只金苹果.txt',\n",
       " './dataset/story/三件礼物.txt',\n",
       " './dataset/story/三兄妹杀死巨人.txt',\n",
       " './dataset/story/三位黑公主.txt',\n",
       " './dataset/story/三个金雕像.txt',\n",
       " './dataset/story/三个黑公主.txt',\n",
       " './dataset/story/三人成虎.txt',\n",
       " './dataset/story/三人同屋.txt']"
      ]
     },
     "execution_count": 27,
     "metadata": {},
     "output_type": "execute_result"
    }
   ],
   "source": [
    "names"
   ]
  },
  {
   "cell_type": "code",
   "execution_count": 28,
   "metadata": {},
   "outputs": [
    {
     "data": {
      "text/plain": [
       "numpy.ndarray"
      ]
     },
     "execution_count": 28,
     "metadata": {},
     "output_type": "execute_result"
    }
   ],
   "source": [
    "from sklearn.metrics.pairwise import cosine_similarity\n",
    "#Note that 有了 dist 就可以测量任意两个或多个概要之间的相似性.\n",
    "#cosine_similarity返回An array with shape (n_samples_X, n_samples_Y)\n",
    "dist = 1 - cosine_similarity(tfidf)\n",
    "type(dist)"
   ]
  },
  {
   "cell_type": "code",
   "execution_count": 29,
   "metadata": {},
   "outputs": [
    {
     "name": "stdout",
     "output_type": "stream",
     "text": [
      "[[11.         13.          0.96053153  2.        ]\n",
      " [ 4.         12.          1.15167078  2.        ]\n",
      " [ 6.         17.          1.24632634  3.        ]\n",
      " [ 1.          8.          1.24698189  2.        ]\n",
      " [ 2.         18.          1.27622388  4.        ]\n",
      " [19.         20.          1.28187749  6.        ]\n",
      " [ 3.          9.          1.2840741   2.        ]\n",
      " [16.         21.          1.29401256  8.        ]\n",
      " [ 7.         23.          1.29949994  9.        ]\n",
      " [ 5.         24.          1.30767144 10.        ]\n",
      " [22.         25.          1.31847418 12.        ]\n",
      " [10.         26.          1.31981897 13.        ]\n",
      " [15.         27.          1.38554731 14.        ]\n",
      " [14.         28.          1.38744156 15.        ]\n",
      " [ 0.         29.          1.40714701 16.        ]]\n",
      "0 ./dataset/story/三令五申.txt\n",
      "1 ./dataset/story/三个金苹果.txt\n",
      "2 ./dataset/story/三兄弟.txt\n",
      "3 ./dataset/story/三代国王传奇.txt\n",
      "4 ./dataset/story/三兄弟的故事.txt\n",
      "5 ./dataset/story/三个说大话的人和一个穿孔铜钱.txt\n",
      "6 ./dataset/story/三兄弟寻找财富.txt\n",
      "7 ./dataset/story/三个阿訇.txt\n",
      "8 ./dataset/story/三兄弟和一只金苹果.txt\n",
      "9 ./dataset/story/三件礼物.txt\n",
      "10 ./dataset/story/三兄妹杀死巨人.txt\n",
      "11 ./dataset/story/三位黑公主.txt\n",
      "12 ./dataset/story/三个金雕像.txt\n",
      "13 ./dataset/story/三个黑公主.txt\n",
      "14 ./dataset/story/三人成虎.txt\n",
      "15 ./dataset/story/三人同屋.txt\n"
     ]
    }
   ],
   "source": [
    "from scipy.cluster.hierarchy import ward, dendrogram, linkage\n",
    "import matplotlib.pyplot as plt\n",
    "plt.rcParams['font.sans-serif']=['Microsoft YaHei'] #用来正常显示中文标签\n",
    "#Perform Ward's linkage on a condensed distance matrix.\n",
    "#linkage_matrix = ward(dist) #define the linkage_matrix using ward clustering pre-computed distances\n",
    "#Method 'ward' requires the distance metric to be Euclidean\n",
    "linkage_matrix = linkage(dist, method='single', metric='euclidean', optimal_ordering=False)\n",
    "#Z[i] will tell us which clusters were merged, let's take a look at the first two points that were merged\n",
    "#We can see that ach row of the resulting array has the format [idx1, idx2, dist, sample_count]\n",
    "print(linkage_matrix)\n",
    "for index, name in enumerate(names):\n",
    "    print(index, name)\n"
   ]
  },
  {
   "cell_type": "code",
   "execution_count": 30,
   "metadata": {},
   "outputs": [
    {
     "name": "stdout",
     "output_type": "stream",
     "text": [
      "0.9605315323777693\n",
      "1.1516707793790621\n",
      "1.2463263382240715\n",
      "1.2469818921873208\n",
      "1.276223883420786\n",
      "1.2818774914897573\n",
      "1.2840740967766404\n",
      "1.294012556168087\n",
      "1.2994999427989273\n",
      "1.3076714436974535\n",
      "1.318474180709083\n",
      "1.31981896538001\n",
      "1.3855473128779585\n",
      "1.3874415613594178\n",
      "1.4071470107092343\n"
     ]
    }
   ],
   "source": [
    "for ele in linkage_matrix:\n",
    "    print(ele[2])"
   ]
  },
  {
   "cell_type": "code",
   "execution_count": 31,
   "metadata": {},
   "outputs": [
    {
     "name": "stderr",
     "output_type": "stream",
     "text": [
      "/anaconda3/lib/python3.6/site-packages/matplotlib/font_manager.py:1328: UserWarning: findfont: Font family ['sans-serif'] not found. Falling back to DejaVu Sans\n",
      "  (prop.get_family(), self.defaultFamily[fontext]))\n"
     ]
    },
    {
     "data": {
      "image/png": "[encoded data removed]",
      "text/plain": [
       "<Figure size 1800x720 with 1 Axes>"
      ]
     },
     "metadata": {},
     "output_type": "display_data"
    }
   ],
   "source": [
    "\n",
    "import matplotlib.pyplot as plt\n",
    " \n",
    "from pylab import *\n",
    "#plt.rcParams['font.sans-serif'] = ['SimHei']\n",
    "\n",
    "plt.figure(figsize=(25, 10))\n",
    "#plt.title('中文文本层次聚类树状图')\n",
    "\n",
    "plt.title('Hierarchical Clustering Tree Graph of Chinese Text')\n",
    "plt.xlabel('Titles')\n",
    "plt.ylabel('Distance（Lower level means higer similarity）')\n",
    "dendrogram(\n",
    "    linkage_matrix,\n",
    "    labels=names, \n",
    "    leaf_rotation=-70,  # rotates the x axis labels\n",
    "    leaf_font_size=22  # font size for the x axis labels\n",
    ")\n",
    "plt.show()\n",
    "plt.close()\n",
    "\n"
   ]
  },
  {
   "cell_type": "code",
   "execution_count": null,
   "metadata": {},
   "outputs": [],
   "source": []
  }
 ],
 "metadata": {
  "kernelspec": {
   "display_name": "Python 3",
   "language": "python",
   "name": "python3"
  },
  "language_info": {
   "codemirror_mode": {
    "name": "ipython",
    "version": 3
   },
   "file_extension": ".py",
   "mimetype": "text/x-python",
   "name": "python",
   "nbconvert_exporter": "python",
   "pygments_lexer": "ipython3",
   "version": "3.6.5"
  }
 },
 "nbformat": 4,
 "nbformat_minor": 2
}
