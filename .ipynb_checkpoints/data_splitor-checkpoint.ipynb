{
 "cells": [
  {
   "cell_type": "code",
   "execution_count": 39,
   "metadata": {},
   "outputs": [],
   "source": [
    "# -*- coding: UTF-8 -*-\n",
    "import os\n",
    "import numpy as np\n",
    "import pandas as pd\n",
    "import jieba\n",
    "import jieba.analyse\n",
    "import codecs\n",
    "import jieba.posseg as pseg \n"
   ]
  },
  {
   "cell_type": "markdown",
   "metadata": {},
   "source": [
    "# split stories"
   ]
  },
  {
   "cell_type": "code",
   "execution_count": 40,
   "metadata": {},
   "outputs": [],
   "source": [
    "def file_split(text):\n",
    "    contents = text.read().split('题目 ：') #we split stories by '题目 ：'\n",
    "    # traverse each story\n",
    "    for con in contents:\n",
    "        \n",
    "        if len(con) != 0:\n",
    "            title = con.split('内容：')[0].strip()\n",
    "            \n",
    "            story = con.split('内容：')[1].split('url:')[0].strip()\n",
    "            text_create(path, title, story)"
   ]
  },
  {
   "cell_type": "markdown",
   "metadata": {},
   "source": [
    "# write stories in the .txt file"
   ]
  },
  {
   "cell_type": "code",
   "execution_count": 41,
   "metadata": {},
   "outputs": [],
   "source": [
    "def text_create(path,name, msg):    \n",
    "    full_path = path + name + '.txt'  # 也可以创建一个.doc的word文档\n",
    "    file = open(full_path, 'w')\n",
    "    file.write(msg)   #msg也就是下面的Hello world!\n",
    "    file.close()\n",
    "    "
   ]
  },
  {
   "cell_type": "markdown",
   "metadata": {},
   "source": [
    "# main method"
   ]
  },
  {
   "cell_type": "code",
   "execution_count": 29,
   "metadata": {},
   "outputs": [],
   "source": [
    "file_dir = './dataset/new_data/'\n",
    "files = os.listdir(file_dir)\n",
    "for file in files:\n",
    "    file_path = file_dir+file\n",
    "    #print(file_path)\n",
    "    text = open(file_path, 'r',encoding=\"utf-8\") #加载要处理的文件的路径\n",
    "    text.buffer\n",
    "    file_split(text)\n"
   ]
  },
  {
   "cell_type": "code",
   "execution_count": null,
   "metadata": {},
   "outputs": [],
   "source": []
  }
 ],
 "metadata": {
  "kernelspec": {
   "display_name": "Python 3",
   "language": "python",
   "name": "python3"
  },
  "language_info": {
   "codemirror_mode": {
    "name": "ipython",
    "version": 3
   },
   "file_extension": ".py",
   "mimetype": "text/x-python",
   "name": "python",
   "nbconvert_exporter": "python",
   "pygments_lexer": "ipython3",
   "version": "3.6.5"
  }
 },
 "nbformat": 4,
 "nbformat_minor": 2
}
