{
 "cells": [
  {
   "cell_type": "code",
   "execution_count": 299,
   "metadata": {},
   "outputs": [],
   "source": [
    "# 导入程序所需要的程序包\n",
    "\n",
    "#抓取网页内容用的程序包\n",
    "import json\n",
    "import requests\n",
    "\n",
    "#PyTorch用的包\n",
    "import torch\n",
    "import torch.nn as nn\n",
    "import torch.optim\n",
    "#from torch.autograd import Variable\n",
    "\n",
    "# 自然语言处理相关的包\n",
    "import re #正则表达式的包\n",
    "import jieba #结巴分词包\n",
    "from collections import Counter #搜集器，可以让统计词频更简单\n",
    "\n",
    "#绘图、计算用的程序包\n",
    "import matplotlib.pyplot as plt\n",
    "import numpy as np\n",
    "%matplotlib inline"
   ]
  },
  {
   "cell_type": "code",
   "execution_count": 328,
   "metadata": {},
   "outputs": [],
   "source": [
    "# 数据来源文件\n",
    "good_file = './dataset/data_haotian/中国寓言故事.txt'\n",
    "bad_file  = './dataset/data_haotian/外国民间故事.txt'\n",
    "#is_filter = True\n",
    "# 将文本中的标点符号过滤掉\n",
    "def filter_punc(sentence):\n",
    "    sentence = re.sub(\"[\\s+\\.\\!\\/_,$%^*(+\\\"\\'“”《》?“]+|[+——！，。？、~@#￥%……&*（）：]+\", \"\", sentence)  \n",
    "    return(sentence)"
   ]
  },
  {
   "cell_type": "code",
   "execution_count": 327,
   "metadata": {},
   "outputs": [
    {
     "name": "stdout",
     "output_type": "stream",
     "text": [
      "./dataset/data_haotian/中国寓言故事.txt 包含 2210 行, 287512 个词.\n"
     ]
    }
   ],
   "source": [
    "#扫描所有的文本，分词、建立词典，分出正向还是负向的评论\n",
    "#def Prepare_data(good_file, bad_file, is_filter = True):\n",
    "all_words = [] #存储所有的单词\n",
    "pos_sentences = [] #存储正向的评论\n",
    "# 统计bad file的行数和单词数\n",
    "with open(good_file, 'r') as fr:\n",
    "    for idx, line in enumerate(fr): # idx 是编号 line 是一段评论文本\n",
    "\n",
    "        #过滤标点符号\n",
    "        line = filter_punc(line)\n",
    "        #分词\n",
    "        words = jieba.lcut(line)\n",
    "        #print(words)\n",
    "        if len(words) > 0:\n",
    "            all_words += words\n",
    "            pos_sentences.append(words)\n",
    "print('{0} 包含 {1} 行, {2} 个词.'.format(good_file, idx+1, len(all_words)))"
   ]
  },
  {
   "cell_type": "code",
   "execution_count": 329,
   "metadata": {},
   "outputs": [
    {
     "name": "stdout",
     "output_type": "stream",
     "text": [
      "./dataset/data_haotian/外国民间故事.txt 包含 1779 行, 294394 个词.\n"
     ]
    }
   ],
   "source": [
    "# 统计bad file的行数和单词数\n",
    "neg_sentences = [] #存储负向的评论\n",
    "count = len(all_words)\n",
    "with open(bad_file, 'r') as fr:\n",
    "    for idx, line in enumerate(fr):\n",
    "        #if is_filter:\n",
    "        line = filter_punc(line)\n",
    "        words = jieba.lcut(line)\n",
    "        if len(words) > 0:\n",
    "            all_words += words\n",
    "            neg_sentences.append(words)\n",
    "print('{0} 包含 {1} 行, {2} 个词.'.format(bad_file, idx+1, len(all_words)-count))"
   ]
  },
  {
   "cell_type": "code",
   "execution_count": 330,
   "metadata": {},
   "outputs": [
    {
     "name": "stdout",
     "output_type": "stream",
     "text": [
      "字典大小：46428\n"
     ]
    }
   ],
   "source": [
    "\n",
    "#建立词典，diction的每一项为{w:[id, 单词出现次数]}\n",
    "diction = {}\n",
    "cnt = Counter(all_words) #counter作用就是在一个数组内，遍历所有元素，将元素出现的次数记下来\n",
    "for word, freq in cnt.items():\n",
    "    diction[word] = [len(diction), freq] #用len(diction) 是作为词语的编号\n",
    "print('字典大小：{}'.format(len(diction)))\n",
    "\n",
    "#return(pos_sentences, neg_sentences, diction)"
   ]
  },
  {
   "cell_type": "code",
   "execution_count": 331,
   "metadata": {},
   "outputs": [],
   "source": [
    "#diction"
   ]
  },
  {
   "cell_type": "code",
   "execution_count": 332,
   "metadata": {},
   "outputs": [],
   "source": [
    "\n",
    "#pos_sentences, neg_sentences, diction = Prepare_data(good_file, bad_file, True)\n",
    "#根据词频对diction进行排序，左边是词频，右边是词语\n",
    "st = sorted([(v[1], w) for w, v in diction.items()]) \n",
    "#st"
   ]
  },
  {
   "cell_type": "code",
   "execution_count": 333,
   "metadata": {},
   "outputs": [],
   "source": [
    "\n",
    "#根据单词返还单词的编码\n",
    "def word2index(word, diction):\n",
    "    if word in diction:\n",
    "        value = diction[word][0]\n",
    "    else:\n",
    "        value = -1\n",
    "    return(value)\n",
    "\n",
    "#根据编码获得单词\n",
    "def index2word(index, diction):\n",
    "    for w,v in diction.items():\n",
    "        if v[0] == index:\n",
    "            return(w)\n",
    "    return(None)\n",
    "\n"
   ]
  },
  {
   "cell_type": "code",
   "execution_count": 334,
   "metadata": {},
   "outputs": [],
   "source": [
    "# 输入一个句子和相应的词典，得到这个句子的向量化表示\n",
    "# 向量的尺寸为词典中词汇的个数，i位置上面的数值为第i个单词在sentence中出现的频率\n",
    "def sentence2vec(sentence, dictionary):\n",
    "    #zeros(shape, dtype=float, order='C')返回一个给定形状和类型的用0填充的数组\n",
    "    vector = np.zeros(len(dictionary)) \n",
    "    #print(vector)\n",
    "    for l in sentence:\n",
    "        vector[l] += 1\n",
    "    result = (1.0 * vector / len(sentence)) #计算单词在sentence中出现的频率\n",
    "    return result\n",
    "\n"
   ]
  },
  {
   "cell_type": "code",
   "execution_count": 335,
   "metadata": {},
   "outputs": [],
   "source": [
    "# 遍历所有句子，将每一个词映射成编码\n",
    "dataset = [] #数据集\n",
    "labels = [] #标签\n",
    "sentences = [] #原始句子，调试用\n",
    "# 处理正向评论 （分词和去标点后的正向评论）\n",
    "for sentence in pos_sentences:\n",
    "    new_sentence = []\n",
    "    for l in sentence:\n",
    "        #l是每个词\n",
    "        if l in diction:\n",
    "            new_sentence.append(word2index(l, diction)) # 每个new_sentence都是句子中每个词语的编号（不是词频）\n",
    "    dataset.append(sentence2vec(new_sentence, diction)) #sentence2vec将句子转化为词频表示的向量\n",
    "    labels.append(0) #正标签为0\n",
    "    sentences.append(sentence)\n"
   ]
  },
  {
   "cell_type": "code",
   "execution_count": 336,
   "metadata": {},
   "outputs": [],
   "source": [
    "\n",
    "# 处理负向评论\n",
    "for sentence in neg_sentences:\n",
    "    new_sentence = []\n",
    "    for l in sentence:\n",
    "        if l in diction:\n",
    "            new_sentence.append(word2index(l, diction))\n",
    "    dataset.append(sentence2vec(new_sentence, diction))\n",
    "    labels.append(1) #负标签为1\n",
    "    sentences.append(sentence)"
   ]
  },
  {
   "cell_type": "code",
   "execution_count": 337,
   "metadata": {},
   "outputs": [
    {
     "data": {
      "text/plain": [
       "array([ 813, 1967,  268, ..., 1976,  712,  108])"
      ]
     },
     "execution_count": 337,
     "metadata": {},
     "output_type": "execute_result"
    }
   ],
   "source": [
    "\n",
    "\n",
    "#打乱所有的数据顺序，形成数据集\n",
    "# indices为所有数据下标的一个全排列\n",
    "indices = np.random.permutation(len(dataset))\n",
    "indices"
   ]
  },
  {
   "cell_type": "code",
   "execution_count": 338,
   "metadata": {},
   "outputs": [],
   "source": [
    "\n",
    "#重新根据打乱的下标生成数据集dataset，标签集labels，以及对应的原始句子sentences\n",
    "dataset = [dataset[i] for i in indices]\n",
    "labels = [labels[i] for i in indices]\n",
    "sentences = [sentences[i] for i in indices]"
   ]
  },
  {
   "cell_type": "code",
   "execution_count": 339,
   "metadata": {},
   "outputs": [],
   "source": [
    "#对整个数据集进行划分，分为：训练集、校准集和测试集，其中校准和测试集合的长度都是整个数据集的10分之一\n",
    "test_size = len(dataset) // 10\n",
    "train_data = dataset[2 * test_size :]\n",
    "train_label = labels[2 * test_size :]\n",
    "\n",
    "valid_data = dataset[: test_size]\n",
    "valid_label = labels[: test_size]\n",
    "\n",
    "test_data = dataset[test_size : 2 * test_size]\n",
    "test_label = labels[test_size : 2 * test_size]"
   ]
  },
  {
   "cell_type": "markdown",
   "metadata": {},
   "source": [
    "# 模型"
   ]
  },
  {
   "cell_type": "code",
   "execution_count": 340,
   "metadata": {},
   "outputs": [],
   "source": [
    "def rightness(predictions, labels):\n",
    "    \"\"\"计算预测错误率的函数，其中predictions是模型给出的一组预测结果，\n",
    "    batch_size行num_classes列的矩阵，labels是数据之中的正确答案\"\"\"\n",
    "    pred = torch.max(predictions.data, 1)[1] # 对于任意一行（一个样本）的输出值的第1个维度，求最大，得到每一行的最大元素的下标\n",
    "    rights = pred.eq(labels.data.view_as(pred)).sum() #将下标与labels中包含的类别进行比较，并累计得到比较正确的数量\n",
    "    return rights, len(labels) #返回正确的数量和这一次一共比较了多少元素"
   ]
  },
  {
   "cell_type": "code",
   "execution_count": 341,
   "metadata": {},
   "outputs": [],
   "source": [
    "# 一个简单的前馈神经网络，三层，第一层线性层，加一个非线性ReLU，第二层线性层，中间有10个隐含层神经元\n",
    "\n",
    "# 输入维度为词典的大小：每一段评论的词袋模型\n",
    "model = nn.Sequential(\n",
    "    nn.Linear(len(diction), 10),\n",
    "    nn.ReLU(),\n",
    "    nn.Linear(10, 2),\n",
    "    nn.LogSoftmax(),\n",
    ")\n"
   ]
  },
  {
   "attachments": {
    "image.png": {
     "image/png": "[encoded data removed]"
    }
   },
   "cell_type": "markdown",
   "metadata": {},
   "source": [
    "# 交叉熵损失函数 (Cross-entropy loss function)\n",
    "\n",
    "交叉熵损失函数的标准形式如下:\n",
    "\n",
    " ![image.png](attachment:image.png)\n",
    "\n",
    "注意公式中 x 表示样本， y 表示实际的标签， a 表示预测的输出， n 表示样本总数量。\n",
    "\n",
    "特点：\n",
    "\n",
    "(1)本质上也是一种对数似然函数，可用于二分类和多分类任务中。\n",
    "\n",
    "二分类问题中的loss函数（输入数据是softmax或者sigmoid函数的输出）：\n",
    "\n",
    " ![image.png](attachment:image.png)\n",
    "\n",
    "多分类问题中的loss函数（输入数据是softmax或者sigmoid函数的输出）：\n",
    "\n",
    "![image.png](attachment:image.png)[公式]\n",
    "\n",
    "(2)当使用sigmoid作为激活函数的时候，常用交叉熵损失函数而不用均方误差损失函数，因为它可以完美解决平方损失函数权重更新过慢的问题，具有“误差大的时候，权重更新快；误差小的时候，权重更新慢”的良好性质。\n",
    "\n",
    "\n",
    "这里需要更正一点，对数损失函数和交叉熵损失函数应该是等价的！！！"
   ]
  },
  {
   "cell_type": "code",
   "execution_count": 342,
   "metadata": {},
   "outputs": [
    {
     "data": {
      "text/plain": [
       "'import numpy as np\\ndef cross_entropy(Y, P):\\n    \"\"\"Cross-Entropy loss function.\\n    以向量化的方式实现交叉熵函数\\n    Y and P are lists of labels and estimations\\n    returns the float corresponding to their cross-entropy.\\n    \"\"\"\\n    Y = np.float_(Y)\\n    P = np.float_(P)\\n    return -np.sum(Y * np.log(P) + (1 - Y) * np.log(1 - P)) / len(Y)'"
      ]
     },
     "execution_count": 342,
     "metadata": {},
     "output_type": "execute_result"
    }
   ],
   "source": [
    "'''import numpy as np\n",
    "def cross_entropy(Y, P):\n",
    "    \"\"\"Cross-Entropy loss function.\n",
    "    以向量化的方式实现交叉熵函数\n",
    "    Y and P are lists of labels and estimations\n",
    "    returns the float corresponding to their cross-entropy.\n",
    "    \"\"\"\n",
    "    Y = np.float_(Y)\n",
    "    P = np.float_(P)\n",
    "    return -np.sum(Y * np.log(P) + (1 - Y) * np.log(1 - P)) / len(Y)'''"
   ]
  },
  {
   "cell_type": "code",
   "execution_count": 343,
   "metadata": {},
   "outputs": [
    {
     "data": {
      "text/plain": [
       "'\\nparams (iterable):待优化参数的iterable或者是定义了参数组的dict\\nlr： (float, 可选) – 学习率（默认：1e-3）\\n同样也称为学习率或步长因子，它控制了权重的更新比率（如 0.001）。\\n较大的值（如 0.3）在学习率更新前会有更快的初始学习，\\n而较小的值（如 1.0E-5）会令训练收敛到更好的性能\\n'"
      ]
     },
     "execution_count": 343,
     "metadata": {},
     "output_type": "execute_result"
    }
   ],
   "source": [
    "# 损失函数为交叉熵\n",
    "cost = torch.nn.NLLLoss()\n",
    "# 优化算法为Adam，可以自动调节学习率\n",
    "optimizer = torch.optim.Adam(model.parameters(), lr = 0.01)\n",
    "'''\n",
    "params (iterable):待优化参数的iterable或者是定义了参数组的dict\n",
    "lr： (float, 可选) – 学习率（默认：1e-3）\n",
    "同样也称为学习率或步长因子，它控制了权重的更新比率（如 0.001）。\n",
    "较大的值（如 0.3）在学习率更新前会有更快的初始学习，\n",
    "而较小的值（如 1.0E-5）会令训练收敛到更好的性能\n",
    "'''"
   ]
  },
  {
   "cell_type": "code",
   "execution_count": null,
   "metadata": {},
   "outputs": [],
   "source": []
  },
  {
   "cell_type": "code",
   "execution_count": 344,
   "metadata": {},
   "outputs": [
    {
     "name": "stderr",
     "output_type": "stream",
     "text": [
      "/anaconda3/lib/python3.6/site-packages/torch/nn/modules/container.py:100: UserWarning: Implicit dimension choice for log_softmax has been deprecated. Change the call to include dim=X as an argument.\n",
      "  input = module(input)\n"
     ]
    },
    {
     "name": "stdout",
     "output_type": "stream",
     "text": [
      "第0轮，训练损失：0.65, 校验损失：0.69, 校验准确率: 0.55\n",
      "第1轮，训练损失：0.69, 校验损失：0.69, 校验准确率: 0.55\n",
      "第2轮，训练损失：0.69, 校验损失：0.69, 校验准确率: 0.55\n",
      "第3轮，训练损失：0.69, 校验损失：0.69, 校验准确率: 0.55\n",
      "第4轮，训练损失：0.69, 校验损失：0.69, 校验准确率: 0.55\n"
     ]
    }
   ],
   "source": [
    "\n",
    "records = []\n",
    "losses = []\n",
    "#循环5个Epoch\n",
    "for epoch in range(5):\n",
    "    for i, data in enumerate(zip(train_data, train_label)):\n",
    "        x, y = data\n",
    "        # 需要将输入的数据进行适当的变形，主要是要多出一个batch_size的维度，一维\n",
    "        x = torch.tensor(x, requires_grad = True, dtype = torch.float).view(1,-1)\n",
    "        # x的尺寸：batch_size=1, len_dictionary\n",
    "        \n",
    "        # 标签也要加一层外衣以变成1*1的张量\n",
    "        y = torch.tensor(np.array([y]), dtype = torch.long)\n",
    "        # y的尺寸：batch_size=1, 1\n",
    "        \n",
    "        # 清空梯度\n",
    "        optimizer.zero_grad()\n",
    "        # 模型预测\n",
    "        predict = model(x)\n",
    "        # 计算损失函数\n",
    "        loss = cost(predict, y)\n",
    "        # 将损失函数数值加入到列表中\n",
    "        losses.append(loss.data.numpy())\n",
    "        # 开始进行梯度反传\n",
    "        loss.backward()\n",
    "        # 开始对参数进行一步优化\n",
    "        optimizer.step()\n",
    "        \n",
    "        # 每隔3000步，跑一下校验数据集的数据，输出临时结果\n",
    "        if i % 3000 == 0:\n",
    "            val_losses = []\n",
    "            rights = []\n",
    "            # 在所有校验数据集上实验\n",
    "            for j, val in enumerate(zip(valid_data, valid_label)):\n",
    "                x, y = val\n",
    "                x = torch.tensor(x, requires_grad = True, dtype = torch.float).view(1,-1)\n",
    "                y = torch.tensor(np.array([y]), dtype = torch.long)\n",
    "                predict = model(x)\n",
    "                # 调用rightness函数计算准确度\n",
    "                right = rightness(predict, y)\n",
    "                rights.append(right)\n",
    "                loss = cost(predict, y)\n",
    "                val_losses.append(loss.data.numpy())\n",
    "                \n",
    "            # 将校验集合上面的平均准确度计算出来\n",
    "            right_ratio = 1.0 * np.sum([i[0] for i in rights]) / np.sum([i[1] for i in rights])\n",
    "            print('第{}轮，训练损失：{:.2f}, 校验损失：{:.2f}, 校验准确率: {:.2f}'.format(epoch, np.mean(losses),\n",
    "                                                                        np.mean(val_losses), right_ratio))\n",
    "            records.append([np.mean(losses), np.mean(val_losses), right_ratio])"
   ]
  },
  {
   "cell_type": "code",
   "execution_count": 345,
   "metadata": {},
   "outputs": [
    {
     "data": {
      "text/plain": [
       "<matplotlib.legend.Legend at 0x12c3ae240>"
      ]
     },
     "execution_count": 345,
     "metadata": {},
     "output_type": "execute_result"
    },
    {
     "data": {
      "image/png": "[encoded data removed]",
      "text/plain": [
       "<Figure size 432x288 with 1 Axes>"
      ]
     },
     "metadata": {},
     "output_type": "display_data"
    }
   ],
   "source": [
    "\n",
    "# 绘制误差曲线\n",
    "a = [i[0] for i in records]\n",
    "b = [i[1] for i in records]\n",
    "c = [i[2] for i in records]\n",
    "plt.plot(a, label = 'Train Loss')\n",
    "plt.plot(b, label = 'Valid Loss')\n",
    "plt.plot(c, label = 'Valid Accuracy')\n",
    "plt.xlabel('Steps')\n",
    "plt.ylabel('Loss & Accuracy')\n",
    "plt.legend()"
   ]
  },
  {
   "cell_type": "code",
   "execution_count": 346,
   "metadata": {},
   "outputs": [
    {
     "name": "stderr",
     "output_type": "stream",
     "text": [
      "/anaconda3/lib/python3.6/site-packages/torch/nn/modules/container.py:100: UserWarning: Implicit dimension choice for log_softmax has been deprecated. Change the call to include dim=X as an argument.\n",
      "  input = module(input)\n"
     ]
    },
    {
     "data": {
      "text/plain": [
       "0.5376884422110553"
      ]
     },
     "execution_count": 346,
     "metadata": {},
     "output_type": "execute_result"
    }
   ],
   "source": [
    "#在测试集上分批运行，并计算总的正确率\n",
    "vals = [] #记录准确率所用列表\n",
    "\n",
    "#对测试数据集进行循环\n",
    "for data, target in zip(test_data, test_label):\n",
    "    data, target = torch.tensor(data, dtype = torch.float).view(1,-1), torch.tensor(np.array([target]), dtype = torch.long)\n",
    "    output = model(data) #将特征数据喂入网络，得到分类的输出\n",
    "    val = rightness(output, target) #获得正确样本数以及总样本数\n",
    "    vals.append(val) #记录结果\n",
    "\n",
    "#计算准确率\n",
    "rights = (sum([tup[0] for tup in vals]), sum([tup[1] for tup in vals]))\n",
    "right_rate = 1.0 * rights[0].data.numpy() / rights[1]\n",
    "right_rate"
   ]
  },
  {
   "cell_type": "code",
   "execution_count": null,
   "metadata": {},
   "outputs": [],
   "source": []
  }
 ],
 "metadata": {
  "kernelspec": {
   "display_name": "Python 3",
   "language": "python",
   "name": "python3"
  },
  "language_info": {
   "codemirror_mode": {
    "name": "ipython",
    "version": 3
   },
   "file_extension": ".py",
   "mimetype": "text/x-python",
   "name": "python",
   "nbconvert_exporter": "python",
   "pygments_lexer": "ipython3",
   "version": "3.6.5"
  }
 },
 "nbformat": 4,
 "nbformat_minor": 2
}
