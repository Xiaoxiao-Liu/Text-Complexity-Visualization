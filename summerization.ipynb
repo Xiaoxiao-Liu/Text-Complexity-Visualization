{
 "cells": [
  {
   "cell_type": "code",
   "execution_count": 1,
   "metadata": {},
   "outputs": [],
   "source": [
    "from gensim.summarization.summarizer import summarize\n",
    "from pyltp import Segmentor\n",
    "from pyltp import SentenceSplitter\n"
   ]
  },
  {
   "cell_type": "code",
   "execution_count": 2,
   "metadata": {},
   "outputs": [],
   "source": [
    "_segmentor = None\n",
    "_sent_splitter = None\n",
    "\n",
    "def split(content):\n",
    "    '''分句和分词'''\n",
    "    global _segmentor, _sent_splitter\n",
    "    if _segmentor is None:\n",
    "        model_path = r'/Users/liuxiaoxiao/pyltp/ltp/ltp_data_v3.4.0/cws.model'\n",
    "        segmentor = Segmentor()  # 初始化实例\n",
    "        segmentor.load(model_path) # 加载分词模型\n",
    "        _segmentor = segmentor  # 设置全局变量, 避免每次都重新加载模型, 耗时\n",
    "        _sent_splitter = SentenceSplitter() # 句子分割模型\n",
    "    sents = _sent_splitter.split(content)  # 先进行分句\n",
    "    _sents = []\n",
    "    for sent in sents:\n",
    "        print(sent)\n",
    "        words = _segmentor.segment(sent) # 分词\n",
    "        print(words)\n",
    "        sent = ' '.join(words) # 用空格把词隔开\n",
    "        _sents.append(sent)\n",
    "    content = '. '.join(_sents)  # 用.把句子隔开\n",
    "    return content"
   ]
  },
  {
   "cell_type": "code",
   "execution_count": 23,
   "metadata": {},
   "outputs": [
    {
     "name": "stdout",
     "output_type": "stream",
     "text": [
      "本模块提供文本摘要的功能。\n",
      "<pyltp.VectorOfString object at 0x1a216a7c30>\n",
      "基于TextRank算法来计算文本句子的等级。\n",
      "<pyltp.VectorOfString object at 0x1a216a7870>\n",
      "转换前: 本模块提供文本摘要的功能。基于TextRank算法来计算文本句子的等级。\n",
      "转换后: 本 模块 提供 文本 摘要 的 功能 。. 基于 TextRank 算法 来 计算 文本 句子 的 等级 。\n"
     ]
    }
   ],
   "source": [
    "content = '本模块提供文本摘要的功能。基于TextRank算法来计算文本句子的等级。'\n",
    "result = split(content)\n",
    "print(f'转换前: {content}')\n",
    "print(f'转换后: {result}')"
   ]
  },
  {
   "cell_type": "code",
   "execution_count": null,
   "metadata": {},
   "outputs": [],
   "source": []
  },
  {
   "cell_type": "code",
   "execution_count": 24,
   "metadata": {},
   "outputs": [
    {
     "name": "stdout",
     "output_type": "stream",
     "text": [
      "\n",
      "<pyltp.VectorOfString object at 0x1a216a7db0>\n",
      "使用51篇文章的Opinion数据集进行比较。\n",
      "<pyltp.VectorOfString object at 0x1a216a7f90>\n",
      "\n",
      "<pyltp.VectorOfString object at 0x1a216a7a50>\n",
      "每篇文章都是关于产品的功能，例如iPod的电池寿命等，并且是购买该产品的客户的评论集合。\n",
      "<pyltp.VectorOfString object at 0x1a216a7c90>\n",
      "\n",
      "<pyltp.VectorOfString object at 0x1a216a76f0>\n",
      "数据集中的每篇文章都有5个手动编写的“黄金”摘要。\n",
      "<pyltp.VectorOfString object at 0x1a216a7990>\n",
      "\n",
      "<pyltp.VectorOfString object at 0x1a216a7bd0>\n",
      "通常5金总结是不同的，但它们也可以是相同的文本重复5次。\n",
      "<pyltp.VectorOfString object at 0x1a216a7f30>\n",
      "\n",
      "<pyltp.VectorOfString object at 0x1a216a78d0>\n",
      "LexRank是这里的赢家，因为它产生了更好的ROUGE和BLEU分数。\n",
      "<pyltp.VectorOfString object at 0x1a216a77b0>\n",
      "\n",
      "<pyltp.VectorOfString object at 0x1a216a7ed0>\n",
      "不幸的是，我们发现由Gensim的TextRank和Luhn模型产生的摘要信息比摘要要少。\n",
      "<pyltp.VectorOfString object at 0x1a216a7750>\n",
      "\n",
      "<pyltp.VectorOfString object at 0x1a216a7930>\n",
      "此外，LexRank并不总是在ROUGE评分中击败TextRank  - 例如，TextRank在DUC 2002数据集上的表现稍好于LexRank。\n",
      "<pyltp.VectorOfString object at 0x1a216a7810>\n",
      "\n",
      "<pyltp.VectorOfString object at 0x1a216a7d50>\n",
      "因此，LexRank和TextRank之间的选择取决于您的数据集，值得一试。\n",
      "<pyltp.VectorOfString object at 0x1a216a7b10>\n",
      "\n",
      "<pyltp.VectorOfString object at 0x1a216a7690>\n",
      "数据的另一个结论是Gensim的Textrank优于普通的PyTextRank。\n",
      "<pyltp.VectorOfString object at 0x1a216a7e70>\n",
      "\n",
      "<pyltp.VectorOfString object at 0x1a216a7cf0>\n",
      "因为它在明文TextRank中使用BM25函数而不是余弦IDF。\n",
      "<pyltp.VectorOfString object at 0x1a216a7e10>\n",
      "\n",
      "<pyltp.VectorOfString object at 0x1a216a79f0>\n",
      "表中的另一点是Luhn的算法具有较低的BLEU分数。\n",
      "<pyltp.VectorOfString object at 0x1a216a7ab0>\n",
      "\n",
      "<pyltp.VectorOfString object at 0x1a2167cdb0>\n",
      "这是因为它提取了更长的摘要，因此涵盖了更多的产品评论。\n",
      "<pyltp.VectorOfString object at 0x1a2167cd50>\n",
      "\n",
      "<pyltp.VectorOfString object at 0x1a2167ced0>\n",
      "不幸的是，我们不能缩短它，因为Sumy中Luhn算法的封装不提供参数来改变字数限制。\n",
      "<pyltp.VectorOfString object at 0x1a2167c9f0>\n",
      "\n",
      "<pyltp.VectorOfString object at 0x1a2167ca50>\n"
     ]
    },
    {
     "data": {
      "text/plain": [
       "'. 使用 51 篇 文章 的 Opinion 数据 集 进行 比较 。. . 每 篇 文章 都 是 关于 产品 的 功能 ， 例如 iPod 的 电池 寿命 等 ， 并且 是 购买 该 产品 的 客户 的 评论 集合 。. . 数据 集中 的 每 篇 文章 都 有 5 个 手动 编写 的 “ 黄金 ” 摘要 。. . 通常 5 金 总结 是 不同 的 ， 但 它们 也 可以 是 相同 的 文本 重复 5 次 。. . LexRank 是 这里 的 赢家 ， 因为 它 产生 了 更 好 的 ROUGE 和 BLEU 分数 。. . 不幸 的 是 ， 我们 发现 由 Gensim 的 TextRank 和 Luhn 模型 产生 的 摘要 信息 比 摘要 要 少 。. . 此外 ， LexRank 并 不 总是 在 ROUGE 评分 中 击败 TextRank - 例如 ， TextRank 在 DUC 2002 数据 集 上 的 表现 稍 好 于 LexRank 。. . 因此 ， LexRank 和 TextRank 之间 的 选择 取决于 您 的 数据 集 ， 值得 一 试 。. . 数据 的 另 一个 结论 是 Gensim 的 Textrank 优于 普通 的 PyTextRank 。. . 因为 它 在 明文 TextRank 中 使用 BM25 函数 而 不 是 余弦 IDF 。. . 表 中 的 另 一 点 是 Luhn 的 算法 具有 较 低 的 BLEU 分数 。. . 这 是 因为 它 提取 了 更 长 的 摘要 ， 因此 涵盖 了 更 多 的 产品 评论 。. . 不幸 的 是 ， 我们 不 能 缩短 它 ， 因为 Sumy 中 Luhn 算法 的 封装 不 提供 参数 来 改变 字数 限制 。. '"
      ]
     },
     "execution_count": 24,
     "metadata": {},
     "output_type": "execute_result"
    }
   ],
   "source": [
    "\n",
    "content = '''\n",
    "使用51篇文章的Opinion数据集进行比较。\n",
    "每篇文章都是关于产品的功能，例如iPod的电池寿命等，并且是购买该产品的客户的评论集合。\n",
    "数据集中的每篇文章都有5个手动编写的“黄金”摘要。\n",
    "通常5金总结是不同的，但它们也可以是相同的文本重复5次。\n",
    "LexRank是这里的赢家，因为它产生了更好的ROUGE和BLEU分数。\n",
    "不幸的是，我们发现由Gensim的TextRank和Luhn模型产生的摘要信息比摘要要少。\n",
    "此外，LexRank并不总是在ROUGE评分中击败TextRank  - 例如，TextRank在DUC 2002数据集上的表现稍好于LexRank。\n",
    "因此，LexRank和TextRank之间的选择取决于您的数据集，值得一试。\n",
    "数据的另一个结论是Gensim的Textrank优于普通的PyTextRank。\n",
    "因为它在明文TextRank中使用BM25函数而不是余弦IDF。\n",
    "表中的另一点是Luhn的算法具有较低的BLEU分数。\n",
    "这是因为它提取了更长的摘要，因此涵盖了更多的产品评论。\n",
    "不幸的是，我们不能缩短它，因为Sumy中Luhn算法的封装不提供参数来改变字数限制。\n",
    "'''\n",
    "tokens = split(content)\n",
    "tokens"
   ]
  },
  {
   "cell_type": "code",
   "execution_count": 25,
   "metadata": {},
   "outputs": [
    {
     "data": {
      "text/plain": [
       "'. LexRank 是 这里 的 赢家 ， 因为 它 产生 了 更 好 的 ROUGE 和 BLEU 分数 。.\\n. 不幸 的 是 ， 我们 发现 由 Gensim 的 TextRank 和 Luhn 模型 产生 的 摘要 信息 比 摘要 要 少 。.'"
      ]
     },
     "execution_count": 25,
     "metadata": {},
     "output_type": "execute_result"
    }
   ],
   "source": [
    "summarize(tokens)"
   ]
  },
  {
   "cell_type": "code",
   "execution_count": 3,
   "metadata": {},
   "outputs": [],
   "source": [
    "story = '''小鸭是一艘核动力航空母舰给自己起的名字。小鸟是小鸭身上的一架喷气式超音速战斗机给自己起的名字。 小鸭身上有几百架飞机，可她只对小鸟情有独钟。这是由于小鸟每次在小鸭身上着陆时动作很轻，小鸭几乎感觉不到疼，不像有的飞机借着陆的机会使劲儿往她身上压。 小鸭喜欢在无边无际的海洋里游弋，这是因为有小鸟与她同行。小鸭爱看小鸟从她身上起飞，看他在水天一色的空中翱翔，期待他在她身上着陆。严格说，那不叫着陆，叫吻。 小鸟离开飞机制造厂就和小鸭在一起，他还从未在别的跑道上起降过。他发誓一辈子只在她的跑道上着陆，只在她的跑道上起飞。 一天，小鸭发现自己的甲板上气氛和往常不一样，飞机身上挂满了杀气腾腾的炸弹。她在停机坪上的机群里看见了小鸟，他的机翼和机身下全是炸弹，这饰物她不喜欢。 飞机摩肩擦踵争先恐后从她身上起飞，去执行轰炸任务。当小鸟起飞时，她要求他不要投掷炸弹，她说那座城市里也有爱得死去活来的恋人，也有飞机一样的小伙子，也有跑道般的姑娘。 小鸟答应了。 他走了。小鸭注视着小鸟尾部的清烟，直到看不见。 飞机陆续返航了，飞机身上的炸弹都不见了。 小鸭看见了正在接近她的小鸟，她还看见小鸟身上的炸弹一颗不少。 指挥塔不允许小鸟着陆，携带炸弹的飞机在航空母舰着陆是大忌，有引爆航空母舰的危险。 要么返回那座城市投弹，要么葬身大海。 小鸟选择了后者，他不愿意剥夺那座城市里的跑道上的飞机或飞机下的跑道。 小鸟挂着炸弹在小鸭上空盘旋，他们默默注视着对方。他是她的飞机，她是他的跑道。 终于，小鸟的燃油耗尽了。 他们知道，分手的时刻到了。小鸭希望来生小鸟还在她身上起飞。小鸟希望下辈子还在小鸭身上着陆。 小鸟与大海合二为一。 海面上掀起了冲天的巨浪，那是小鸟最后一次为小鸭释放的液体礼花。 从此，大海成了维系他们的情感纽带。'''"
   ]
  },
  {
   "cell_type": "code",
   "execution_count": 4,
   "metadata": {},
   "outputs": [
    {
     "name": "stdout",
     "output_type": "stream",
     "text": [
      "小鸭是一艘核动力航空母舰给自己起的名字。\n",
      "<pyltp.VectorOfString object at 0x1a1b7a09f0>\n",
      "小鸟是小鸭身上的一架喷气式超音速战斗机给自己起的名字。\n",
      "<pyltp.VectorOfString object at 0x10c618cf0>\n",
      "小鸭身上有几百架飞机，可她只对小鸟情有独钟。\n",
      "<pyltp.VectorOfString object at 0x1a1b7a0bd0>\n",
      "这是由于小鸟每次在小鸭身上着陆时动作很轻，小鸭几乎感觉不到疼，不像有的飞机借着陆的机会使劲儿往她身上压。\n",
      "<pyltp.VectorOfString object at 0x1a1b7a0cf0>\n",
      "小鸭喜欢在无边无际的海洋里游弋，这是因为有小鸟与她同行。\n",
      "<pyltp.VectorOfString object at 0x1a1b7a0c30>\n",
      "小鸭爱看小鸟从她身上起飞，看他在水天一色的空中翱翔，期待他在她身上着陆。\n",
      "<pyltp.VectorOfString object at 0x1a1b7a0c90>\n",
      "严格说，那不叫着陆，叫吻。\n",
      "<pyltp.VectorOfString object at 0x1a1b7a0e10>\n",
      "小鸟离开飞机制造厂就和小鸭在一起，他还从未在别的跑道上起降过。\n",
      "<pyltp.VectorOfString object at 0x1a1b7a0e70>\n",
      "他发誓一辈子只在她的跑道上着陆，只在她的跑道上起飞。\n",
      "<pyltp.VectorOfString object at 0x1a1b7a0ed0>\n",
      "一天，小鸭发现自己的甲板上气氛和往常不一样，飞机身上挂满了杀气腾腾的炸弹。\n",
      "<pyltp.VectorOfString object at 0x1a1b7a0f90>\n",
      "她在停机坪上的机群里看见了小鸟，他的机翼和机身下全是炸弹，这饰物她不喜欢。\n",
      "<pyltp.VectorOfString object at 0x1a1b7a0db0>\n",
      "飞机摩肩擦踵争先恐后从她身上起飞，去执行轰炸任务。\n",
      "<pyltp.VectorOfString object at 0x1a1b7a0f30>\n",
      "当小鸟起飞时，她要求他不要投掷炸弹，她说那座城市里也有爱得死去活来的恋人，也有飞机一样的小伙子，也有跑道般的姑娘。\n",
      "<pyltp.VectorOfString object at 0x1a1b7c8030>\n",
      "小鸟答应了。\n",
      "<pyltp.VectorOfString object at 0x1a1b7c80f0>\n",
      "他走了。\n",
      "<pyltp.VectorOfString object at 0x1a1b7c8150>\n",
      "小鸭注视着小鸟尾部的清烟，直到看不见。\n",
      "<pyltp.VectorOfString object at 0x1a1b7c81b0>\n",
      "飞机陆续返航了，飞机身上的炸弹都不见了。\n",
      "<pyltp.VectorOfString object at 0x1a1b7c8270>\n",
      "小鸭看见了正在接近她的小鸟，她还看见小鸟身上的炸弹一颗不少。\n",
      "<pyltp.VectorOfString object at 0x1a1b7a0d50>\n",
      "指挥塔不允许小鸟着陆，携带炸弹的飞机在航空母舰着陆是大忌，有引爆航空母舰的危险。\n",
      "<pyltp.VectorOfString object at 0x1a1b7c82d0>\n",
      "要么返回那座城市投弹，要么葬身大海。\n",
      "<pyltp.VectorOfString object at 0x1a1b7c83f0>\n",
      "小鸟选择了后者，他不愿意剥夺那座城市里的跑道上的飞机或飞机下的跑道。\n",
      "<pyltp.VectorOfString object at 0x1a1b7c8390>\n",
      "小鸟挂着炸弹在小鸭上空盘旋，他们默默注视着对方。\n",
      "<pyltp.VectorOfString object at 0x1a1b7c8210>\n",
      "他是她的飞机，她是他的跑道。\n",
      "<pyltp.VectorOfString object at 0x1a1b7c8450>\n",
      "终于，小鸟的燃油耗尽了。\n",
      "<pyltp.VectorOfString object at 0x1a1b7c8510>\n",
      "他们知道，分手的时刻到了。\n",
      "<pyltp.VectorOfString object at 0x1a1b7c8570>\n",
      "小鸭希望来生小鸟还在她身上起飞。\n",
      "<pyltp.VectorOfString object at 0x1a1b7c85d0>\n",
      "小鸟希望下辈子还在小鸭身上着陆。\n",
      "<pyltp.VectorOfString object at 0x1a1b7c8630>\n",
      "小鸟与大海合二为一。\n",
      "<pyltp.VectorOfString object at 0x1a1b7c86f0>\n",
      "海面上掀起了冲天的巨浪，那是小鸟最后一次为小鸭释放的液体礼花。\n",
      "<pyltp.VectorOfString object at 0x1a1b7c84b0>\n",
      "从此，大海成了维系他们的情感纽带。\n",
      "<pyltp.VectorOfString object at 0x1a1b7c8750>\n"
     ]
    },
    {
     "data": {
      "text/plain": [
       "'小鸭 是 一 艘 核动力 航空母舰 给 自己 起 的 名字 。. 小鸟 是 小 鸭 身上 的 一 架 喷气式 超音速 战斗机 给 自己 起 的 名字 。. 小 鸭 身上 有 几百 架 飞机 ， 可 她 只 对 小鸟 情有独钟 。. 这 是 由于 小鸟 每次 在 小鸭 身上 着陆 时 动作 很 轻 ， 小鸭 几乎 感觉 不 到 疼 ， 不 像 有的 飞机 借 着陆 的 机会 使 劲儿 往 她 身上 压 。. 小鸭 喜欢 在 无边无际 的 海洋 里 游弋 ， 这 是 因为 有 小鸟 与 她 同行 。. 小 鸭 爱 看 小鸟 从 她 身上 起飞 ， 看 他 在 水 天一色 的 空中 翱翔 ， 期待 他 在 她 身上 着陆 。. 严格 说 ， 那 不 叫 着陆 ， 叫 吻 。. 小鸟 离开 飞机 制造厂 就 和 小鸭 在 一起 ， 他 还 从未 在 别的 跑道 上 起降 过 。. 他 发誓 一辈子 只 在 她 的 跑道 上 着陆 ， 只 在 她 的 跑道 上 起飞 。. 一 天 ， 小鸭 发现 自己 的 甲板 上 气氛 和 往常 不 一样 ， 飞机 身上 挂 满 了 杀气腾腾 的 炸弹 。. 她 在 停机坪 上 的 机群 里 看见 了 小鸟 ， 他 的 机翼 和 机身 下 全 是 炸弹 ， 这 饰物 她 不 喜欢 。. 飞机 摩肩擦踵 争先恐后 从 她 身上 起飞 ， 去 执行 轰炸 任务 。. 当 小鸟 起飞 时 ， 她 要求 他 不要 投掷 炸弹 ， 她 说 那 座 城市 里 也 有 爱 得 死去活来 的 恋人 ， 也 有 飞机 一样 的 小伙子 ， 也 有 跑道 般 的 姑娘 。. 小鸟 答应 了 。. 他 走 了 。. 小鸭 注视 着 小鸟 尾部 的 清烟 ， 直到 看 不见 。. 飞机 陆续 返航 了 ， 飞机 身上 的 炸弹 都 不见 了 。. 小 鸭 看见 了 正在 接近 她 的 小鸟 ， 她 还 看见 小鸟 身上 的 炸弹 一 颗 不 少 。. 指挥塔 不 允许 小鸟 着陆 ， 携带 炸弹 的 飞机 在 航空母舰 着陆 是 大 忌 ， 有 引爆 航空母舰 的 危险 。. 要么 返回 那 座 城市 投弹 ， 要么 葬身大海 。. 小鸟 选择 了 后者 ， 他 不 愿意 剥夺 那 座 城市 里 的 跑道 上 的 飞机 或 飞机 下 的 跑道 。. 小鸟 挂 着 炸弹 在 小鸭 上空 盘旋 ， 他们 默默 注视 着 对方 。. 他 是 她 的 飞机 ， 她 是 他 的 跑道 。. 终于 ， 小鸟 的 燃油 耗尽 了 。. 他们 知道 ， 分手 的 时刻 到 了 。. 小鸭 希望 来生 小鸟 还 在 她 身上 起飞 。. 小鸟 希望 下辈子 还 在 小鸭 身上 着陆 。. 小鸟 与 大海 合二为一 。. 海面 上 掀起 了 冲天 的 巨浪 ， 那 是 小鸟 最后 一 次 为 小鸭 释放 的 液体 礼花 。. 从此 ， 大海 成 了 维系 他们 的 情感 纽带 。'"
      ]
     },
     "execution_count": 4,
     "metadata": {},
     "output_type": "execute_result"
    }
   ],
   "source": [
    "s_result = split(story)\n",
    "s_result"
   ]
  },
  {
   "cell_type": "code",
   "execution_count": 5,
   "metadata": {},
   "outputs": [
    {
     "data": {
      "text/plain": [
       "'小鸭 是 一 艘 核动力 航空母舰 给 自己 起 的 名字 。.\\n小鸟 是 小 鸭 身上 的 一 架 喷气式 超音速 战斗机 给 自己 起 的 名字 。.\\n他 发誓 一辈子 只 在 她 的 跑道 上 着陆 ， 只 在 她 的 跑道 上 起飞 。.'"
      ]
     },
     "execution_count": 5,
     "metadata": {},
     "output_type": "execute_result"
    }
   ],
   "source": [
    "summarize(s_result)"
   ]
  },
  {
   "cell_type": "code",
   "execution_count": null,
   "metadata": {},
   "outputs": [],
   "source": []
  },
  {
   "cell_type": "code",
   "execution_count": null,
   "metadata": {},
   "outputs": [],
   "source": []
  }
 ],
 "metadata": {
  "kernelspec": {
   "display_name": "Python 3",
   "language": "python",
   "name": "python3"
  },
  "language_info": {
   "codemirror_mode": {
    "name": "ipython",
    "version": 3
   },
   "file_extension": ".py",
   "mimetype": "text/x-python",
   "name": "python",
   "nbconvert_exporter": "python",
   "pygments_lexer": "ipython3",
   "version": "3.6.5"
  }
 },
 "nbformat": 4,
 "nbformat_minor": 2
}
