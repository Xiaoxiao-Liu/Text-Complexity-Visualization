{
 "cells": [
  {
   "cell_type": "code",
   "execution_count": 3,
   "metadata": {},
   "outputs": [
    {
     "data": {
      "text/plain": [
       "'x = input(\"输入关键词：\")\\n#输入查询关键词\\n\\nseg_list1 = jieba.cut(x, cut_all=True)\\na = \"/\".join(seg_list1)\\na = a.split(\"/\")'"
      ]
     },
     "execution_count": 3,
     "metadata": {},
     "output_type": "execute_result"
    }
   ],
   "source": [
    "#!/usr/bin/python\n",
    "# -*- coding: UTF-8 -*-\n",
    "import jieba\n",
    "\n",
    "'''x = input(\"输入关键词：\")\n",
    "#输入查询关键词\n",
    "\n",
    "seg_list1 = jieba.cut(x, cut_all=True)\n",
    "a = \"/\".join(seg_list1)\n",
    "a = a.split(\"/\")'''\n"
   ]
  },
  {
   "cell_type": "code",
   "execution_count": 5,
   "metadata": {},
   "outputs": [
    {
     "name": "stdout",
     "output_type": "stream",
     "text": [
      "2\n",
      "<class 'list'>\n"
     ]
    }
   ],
   "source": [
    "filex = open(\"./dataset/数据/马来西亚寓言故事.txt\", encoding = 'utf-8')\n",
    "a = filey.readlines()\n",
    "print(len(a))\n",
    "print(type(a))\n",
    "\n",
    "listx = a\n",
    "#查询关键词分词\n",
    "\n"
   ]
  },
  {
   "cell_type": "code",
   "execution_count": 6,
   "metadata": {},
   "outputs": [
    {
     "name": "stdout",
     "output_type": "stream",
     "text": [
      "2\n",
      "<class 'list'>\n"
     ]
    }
   ],
   "source": [
    "filey = open(\"./dataset/数据/马亚西亚寓言故事.txt\", encoding = 'utf-8')\n",
    "b = filey.readlines()\n",
    "print(len(b))\n",
    "print(type(b))\n",
    "\n",
    "listy = b"
   ]
  },
  {
   "cell_type": "code",
   "execution_count": 7,
   "metadata": {},
   "outputs": [
    {
     "name": "stdout",
     "output_type": "stream",
     "text": [
      "sim: 0.0\n"
     ]
    }
   ],
   "source": [
    "setx = list(set(listx))\n",
    "sety = list(set(listy))\n",
    "set1 = set(listx + listy)\n",
    "countx = []\n",
    "county = []\n",
    "for i in set1:\n",
    "     countx.append((listx.count(i) / len(listx)) * (1 / (setx.count(i) + sety.count(i))))\n",
    "     county.append((listy.count(i) / len(listy)) * (1 / (setx.count(i) + sety.count(i))))\n",
    "sim1 = 0\n",
    "temp1 = 0\n",
    "temp2 = 0\n",
    "for k in range(len(set1)):\n",
    "    sim1 += countx[k] * county[k]\n",
    "    temp1 += (countx[k]) ** 2\n",
    "    temp2 += (county[k]) ** 2\n",
    "sim2 = temp1 ** (1 / 2) * temp2 ** (1 / 2)\n",
    "sim = sim1 / sim2\n",
    "\n",
    "print('sim:',sim)"
   ]
  },
  {
   "cell_type": "code",
   "execution_count": null,
   "metadata": {},
   "outputs": [],
   "source": [
    "\n",
    "result = []\n",
    "#定义存储结果的列表\n",
    "file = open(\"./dataset/数据/马亚西亚寓言故事.txt\", encoding = 'utf-8')\n",
    "#导入目标文件 \n",
    "for line in file:\n",
    "    y = line\n",
    "    seg_list2 = jieba.cut(y, cut_all=True)\n",
    "    b = \"/\".join(seg_list2)\n",
    "    b = b.split(\"/\")\n",
    "    listy = list(b)\n",
    "    #文件按行分割并分词\n",
    "    \n",
    "    setx = list(set(listx))\n",
    "    sety = list(set(listy))\n",
    "    set1 = set(listx + listy)\n",
    "    countx = []\n",
    "    county = []\n",
    "    for i in set1:\n",
    "         countx.append((listx.count(i) / len(listx)) * (1 / (setx.count(i) + sety.count(i))))\n",
    "         county.append((listy.count(i) / len(listy)) * (1 / (setx.count(i) + sety.count(i))))\n",
    "    sim1 = 0\n",
    "    temp1 = 0\n",
    "    temp2 = 0\n",
    "    for k in range(len(set1)):\n",
    "        sim1 += countx[k] * county[k]\n",
    "        temp1 += (countx[k]) ** 2\n",
    "        temp2 += (county[k]) ** 2\n",
    "    sim2 = temp1 ** (1 / 2) * temp2 ** (1 / 2)\n",
    "    sim = sim1 / sim2\n",
    "    \n",
    "    print('sim:',sim)\n",
    "    #余弦相似度计算过程\n",
    "    \n",
    "    result.append([sim, line])\n",
    "    #结果载入列表\n",
    "file.close()\n",
    "#读取操作结束\n",
    "result.sort()\n",
    "result = result[::-1]\n",
    "#相似度降序排名\n",
    "result = result[0:10]\n",
    "#取相似度前10名\n",
    "f = open('result.txt', 'w')\n",
    "for i in range(10):\n",
    "    f.write(result[i][1] + \"\\n\")\n",
    "f.close()\n",
    "#将结果写入文件"
   ]
  }
 ],
 "metadata": {
  "kernelspec": {
   "display_name": "Python 3",
   "language": "python",
   "name": "python3"
  },
  "language_info": {
   "codemirror_mode": {
    "name": "ipython",
    "version": 3
   },
   "file_extension": ".py",
   "mimetype": "text/x-python",
   "name": "python",
   "nbconvert_exporter": "python",
   "pygments_lexer": "ipython3",
   "version": "3.6.5"
  }
 },
 "nbformat": 4,
 "nbformat_minor": 2
}
