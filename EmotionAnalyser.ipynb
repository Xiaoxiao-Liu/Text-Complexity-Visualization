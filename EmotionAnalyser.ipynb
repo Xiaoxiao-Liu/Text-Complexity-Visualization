{
 "cells": [
  {
   "cell_type": "code",
   "execution_count": 19,
   "metadata": {},
   "outputs": [],
   "source": [
    "#encoding: UTF-8 \n",
    "import os\n",
    "import numpy as np\n",
    "import pandas as pd\n",
    "import jieba\n",
    "import jieba.analyse\n",
    "import codecs\n",
    "import jieba.posseg as pseg \n",
    "import json"
   ]
  },
  {
   "cell_type": "markdown",
   "metadata": {},
   "source": [
    "# Basic Words processing"
   ]
  },
  {
   "cell_type": "code",
   "execution_count": 2,
   "metadata": {},
   "outputs": [
    {
     "name": "stderr",
     "output_type": "stream",
     "text": [
      "Building prefix dict from the default dictionary ...\n",
      "Loading model from cache /var/folders/89/qp8kb90s49z7xcdskq2c0qlm0000gn/T/jieba.cache\n",
      "Loading model cost 0.645 seconds.\n",
      "Prefix dict has been built succesfully.\n"
     ]
    }
   ],
   "source": [
    "from collections import Counter\n",
    "import jieba\n",
    "jieba.load_userdict('userdict.txt')\n",
    "\n",
    "# 创建停用词list\n",
    "def stopwordslist(filepath):\n",
    "    stopwords = [line.strip() for line in open(filepath, 'r',encoding='utf-8').readlines()]\n",
    "    return stopwords\n",
    "\n",
    "# 对句子进行分词\n",
    "def seg_sentence(sentence):\n",
    "    sentence_seged = jieba.cut(sentence.strip())\n",
    "    stopwords = stopwordslist('stoped.txt')  # 这里加载停用词的路径\n",
    "    outstr = ''\n",
    "    for word in sentence_seged:\n",
    "        if word not in stopwords:\n",
    "            if word != '\\t':\n",
    "                outstr += word\n",
    "                outstr += \" \"\n",
    "    return outstr\n"
   ]
  },
  {
   "cell_type": "code",
   "execution_count": 3,
   "metadata": {},
   "outputs": [],
   "source": [
    "# 拆分句子\n",
    "# 版本为python3，如果为python2需要在字符串前面加上u\n",
    "import re\n",
    "def cut_sent(para):\n",
    "    para = re.sub('([。！？\\?])([^”’])', r\"\\1\\n\\2\", para)  # 单字符断句符\n",
    "    para = re.sub('([，！？\\?])([^”’])', r\"\\1\\n\\2\", para)  # 单字符断句符\n",
    "    para = re.sub('(\\.{6})([^”’])', r\"\\1\\n\\2\", para)  # 英文省略号\n",
    "    para = re.sub('(\\…{2})([^”’])', r\"\\1\\n\\2\", para)  # 中文省略号\n",
    "    para = re.sub('([。！？\\?][”’])([^，。！？\\?])', r'\\1\\n\\2', para)\n",
    "    \n",
    "    # 如果双引号前有终止符，那么双引号才是句子的终点，把分句符\\n放到双引号后，注意前面的几句都小心保留了双引号\n",
    "    para = para.rstrip()  # 段尾如果有多余的\\n就去掉它\n",
    "    # 很多规则中会考虑分号;，但是这里我把它忽略不计，破折号、英文双引号等同样忽略，需要的再做些简单调整即可。\n",
    "    return para.split(\"\\n\")\n"
   ]
  },
  {
   "cell_type": "markdown",
   "metadata": {},
   "source": [
    "#  Emotion corpus reading"
   ]
  },
  {
   "cell_type": "code",
   "execution_count": 4,
   "metadata": {},
   "outputs": [],
   "source": [
    "em_df = pd.read_excel('情感词典修改版.xlsx')"
   ]
  },
  {
   "cell_type": "code",
   "execution_count": 5,
   "metadata": {},
   "outputs": [
    {
     "name": "stderr",
     "output_type": "stream",
     "text": [
      "/anaconda3/lib/python3.6/site-packages/ipykernel_launcher.py:1: UserWarning: DataFrame columns are not unique, some columns will be omitted.\n",
      "  \"\"\"Entry point for launching an IPython kernel.\n"
     ]
    }
   ],
   "source": [
    "em_dict = em_df[['词语','情感分类']].set_index('词语').T.to_dict(orient=\"list\")"
   ]
  },
  {
   "cell_type": "code",
   "execution_count": 6,
   "metadata": {},
   "outputs": [],
   "source": [
    "#emotion_words = list(em_df['词语'])"
   ]
  },
  {
   "cell_type": "markdown",
   "metadata": {},
   "source": [
    "# Emotion data processing"
   ]
  },
  {
   "cell_type": "code",
   "execution_count": 7,
   "metadata": {},
   "outputs": [],
   "source": [
    "def emotions_analyze(file_path, em_dict):\n",
    "    titles = []\n",
    "    result_emotion = []\n",
    "    result_words = []\n",
    "    text = open(file_path, 'r',encoding=\"utf-8\",errors='ignore') #加载要处理的文件的路径\n",
    "    l = cut_sent(text.read())\n",
    "    text.close()\n",
    "    #print(l)\n",
    "    #for line in text: #这个循环是遍历整个文本，inputs是整个文本，line是文本中的每一段\n",
    "        #l=cut_sent(line)   # l是给一段文本进行拆分句子后的结果\n",
    "    for w in l:  #这个循环是遍历一段文字里的每个句子,l是一段里的所有句子存放的list，w是每个句子\n",
    "        line_seg = seg_sentence(w)  #line_seg 是一个句子拆分词语后的结果\n",
    "        words=list(line_seg.split(' ')) #将一个句子中的词语拆分后逐个存放在list中\n",
    "        for w in words:\n",
    "            if w in list(em_dict):\n",
    "                result_words.append(w) #筛选出情感词\n",
    "                result_emotion.append(em_dict[w][0]) #匹配情感\n",
    "                #print(em_dict[w])\n",
    "                \n",
    "    return result_words, result_emotion"
   ]
  },
  {
   "cell_type": "markdown",
   "metadata": {},
   "source": [
    "# Files reading"
   ]
  },
  {
   "cell_type": "code",
   "execution_count": 8,
   "metadata": {},
   "outputs": [],
   "source": [
    "file_dir = './dataset/emotional_words_data_vis/stories/'\n",
    "files = os.listdir(file_dir)"
   ]
  },
  {
   "cell_type": "markdown",
   "metadata": {},
   "source": [
    "# Results generating"
   ]
  },
  {
   "cell_type": "code",
   "execution_count": 49,
   "metadata": {},
   "outputs": [],
   "source": [
    "def emotion_results_process(file, result_emotion):\n",
    "    result_df = pd.DataFrame(data = result_emotion)\n",
    "    result_df.rename(columns={0:'emotions'}, inplace = True)    \n",
    "    # .size() 聚合统计 .reset_index() 把index变成正常的列\n",
    "    #print(result_df)\n",
    "    new_df = result_df.groupby('emotions').size().reset_index()\n",
    "    new_df.rename(columns={0: 'Times'}, inplace = True) \n",
    "    #new_df['Times'] = new_df['Times'].map(lambda x: x*10) #10是为了可视化数据需要进行的一个处理\n",
    "    return new_df"
   ]
  },
  {
   "cell_type": "code",
   "execution_count": 50,
   "metadata": {},
   "outputs": [
    {
     "name": "stdout",
     "output_type": "stream",
     "text": [
      "乌木马的故事.txt\n",
      "海姑娘和她儿子的故事.txt\n",
      "苏尔克和伊波丽莎.txt\n",
      "银匠的神奇经历.txt\n",
      "麦仑.txt\n",
      "孔马康出走他乡.txt\n",
      "渔翁、魔鬼和比目鱼的故事.txt\n",
      "阿拉丁和灯神的故事(续).txt\n",
      "宰曼和白杜尔.txt\n",
      "阿里巴巴和四十大盗.txt\n",
      "睡着的国王的故事.txt\n",
      "狐狸和狼.txt\n"
     ]
    }
   ],
   "source": [
    "data_for_vis = []\n",
    "temp_dicts = {}\n",
    "emotion_unique_df = pd.DataFrame()\n",
    "for file in files:\n",
    "    if file == '.DS_Store':\n",
    "        continue\n",
    "    print(file)\n",
    "    title = file.split('.txt')[0]\n",
    "    file_path = file_dir+file\n",
    "    result_words, result_emotion = emotions_analyze(file_path, em_dict)\n",
    "    emotion_df = emotion_results_process(file, result_emotion)\n",
    "    temp_dicts[title] = emotion_df\n",
    "    emotion_unique_df[title] = emotion_df['emotions']\n",
    "    \n"
   ]
  },
  {
   "cell_type": "markdown",
   "metadata": {},
   "source": [
    "# keep the matches (process this part of data for a emotional data visualization)"
   ]
  },
  {
   "cell_type": "code",
   "execution_count": 51,
   "metadata": {},
   "outputs": [],
   "source": [
    "result_df = emotion_unique_df.dropna()"
   ]
  },
  {
   "cell_type": "code",
   "execution_count": 52,
   "metadata": {},
   "outputs": [],
   "source": [
    "result_df.to_excel('./dataset/emotional_words_data_vis/emotions.xls')"
   ]
  },
  {
   "cell_type": "code",
   "execution_count": 53,
   "metadata": {},
   "outputs": [
    {
     "name": "stdout",
     "output_type": "stream",
     "text": [
      "['NB', 'NC', 'ND', 'NE', 'NG', 'NH', 'NI', 'NJ', 'NL', 'NN', 'PA', 'PB', 'PC', 'PD', 'PE', 'PF', 'PG', 'PH', 'PH ']\n"
     ]
    }
   ],
   "source": [
    "print(list(result_df[result_df.columns[0]]))"
   ]
  },
  {
   "cell_type": "code",
   "execution_count": null,
   "metadata": {},
   "outputs": [],
   "source": []
  },
  {
   "cell_type": "code",
   "execution_count": null,
   "metadata": {},
   "outputs": [],
   "source": []
  },
  {
   "cell_type": "code",
   "execution_count": 64,
   "metadata": {},
   "outputs": [],
   "source": [
    "emotions = ['NB', 'NC', 'ND', 'NE', 'NG', 'NH', 'NI', 'NJ', 'NL', 'NN', \n",
    "            'PA', 'PB', 'PC', 'PD', 'PE', 'PF', 'PG','PK']"
   ]
  },
  {
   "cell_type": "code",
   "execution_count": 112,
   "metadata": {},
   "outputs": [],
   "source": [
    "def data_vis_data_process(title, emotion_df):\n",
    "    data_vis_dict={}\n",
    "    \n",
    "    emo_df_trans= emotion_df.set_index('emotions').T.drop(['PH','PH ','NN','NJ'], axis=1)\n",
    "    #print(emo_df_trans)\n",
    "    pie_chart_dict = emo_df_trans.to_dict('int')# prepare data for pie chart\n",
    "    #print(pie_chart_dict)\n",
    "    #print(title)\n",
    "    data_vis_dict['Title'] = title\n",
    "    data_vis_dict['Content'] = list(pie_chart_dict.values())[0]\n",
    "    print(data_vis_dict)\n",
    "    return data_vis_dict"
   ]
  },
  {
   "cell_type": "code",
   "execution_count": 113,
   "metadata": {},
   "outputs": [
    {
     "name": "stdout",
     "output_type": "stream",
     "text": [
      "乌木马的故事\n",
      "{'Title': '乌木马的故事', 'Content': {'NB': 29, 'NC': 10, 'ND': 24, 'NE': 23, 'NG': 1, 'NH': 7, 'NI': 13, 'NL': 6, 'PA': 67, 'PB': 15, 'PC': 17, 'PD': 21, 'PE': 13, 'PF': 7, 'PG': 23, 'PK': 28}}\n",
      "海姑娘和她儿子的故事\n",
      "{'Title': '海姑娘和她儿子的故事', 'Content': {'NB': 49, 'NC': 23, 'ND': 25, 'NE': 39, 'NG': 3, 'NH': 2, 'NI': 17, 'NL': 12, 'PA': 105, 'PB': 82, 'PC': 25, 'PD': 51, 'PE': 25, 'PF': 16, 'PG': 41, 'PK': 44}}\n",
      "苏尔克和伊波丽莎\n",
      "{'Title': '苏尔克和伊波丽莎', 'Content': {'NB': 55, 'NC': 21, 'ND': 67, 'NE': 42, 'NG': 10, 'NH': 8, 'NI': 10, 'NL': 29, 'PA': 85, 'PB': 50, 'PC': 25, 'PD': 51, 'PE': 21, 'PF': 11, 'PG': 42, 'PK': 19}}\n",
      "银匠的神奇经历\n",
      "{'Title': '银匠的神奇经历', 'Content': {'NB': 66, 'NC': 30, 'ND': 42, 'NE': 46, 'NH': 8, 'NI': 15, 'NK': 1, 'NL': 12, 'PA': 128, 'PB': 48, 'PC': 31, 'PD': 34, 'PE': 30, 'PF': 11, 'PG': 42, 'PK': 22}}\n",
      "麦仑\n",
      "{'Title': '麦仑', 'Content': {'NB': 43, 'NC': 9, 'ND': 26, 'NE': 33, 'NG': 4, 'NH': 5, 'NI': 15, 'NK': 2, 'NL': 16, 'PA': 78, 'PB': 65, 'PC': 9, 'PD': 27, 'PE': 12, 'PF': 11, 'PG': 26, 'PK': 21}}\n",
      "孔马康出走他乡\n",
      "{'Title': '孔马康出走他乡', 'Content': {'NB': 66, 'NC': 21, 'ND': 59, 'NE': 71, 'NG': 3, 'NH': 7, 'NI': 27, 'NL': 16, 'PA': 111, 'PB': 91, 'PC': 19, 'PD': 46, 'PE': 21, 'PF': 31, 'PG': 41, 'PK': 29}}\n",
      "渔翁、魔鬼和比目鱼的故事\n",
      "{'Title': '渔翁、魔鬼和比目鱼的故事', 'Content': {'NB': 71, 'NC': 16, 'ND': 65, 'NE': 31, 'NG': 1, 'NI': 6, 'NL': 8, 'PA': 62, 'PB': 16, 'PC': 25, 'PD': 24, 'PE': 9, 'PF': 5, 'PG': 31, 'PK': 15}}\n",
      "阿拉丁和灯神的故事(续)\n",
      "{'Title': '阿拉丁和灯神的故事(续)', 'Content': {'NB': 11, 'NC': 7, 'ND': 23, 'NE': 11, 'NH': 2, 'NI': 5, 'NK': 7, 'NL': 8, 'PA': 124, 'PB': 52, 'PC': 21, 'PD': 55, 'PE': 7, 'PF': 5, 'PG': 29, 'PK': 9}}\n",
      "宰曼和白杜尔\n",
      "{'Title': '宰曼和白杜尔', 'Content': {'NB': 53, 'NC': 18, 'ND': 26, 'NE': 46, 'NG': 4, 'NH': 3, 'NI': 19, 'NL': 10, 'PA': 89, 'PB': 35, 'PC': 30, 'PD': 70, 'PE': 10, 'PF': 15, 'PG': 48, 'PK': 8}}\n",
      "阿里巴巴和四十大盗\n",
      "{'Title': '阿里巴巴和四十大盗', 'Content': {'NB': 35, 'NC': 27, 'ND': 71, 'NE': 25, 'NH': 3, 'NI': 13, 'NK': 4, 'NL': 9, 'PA': 79, 'PB': 27, 'PC': 22, 'PD': 27, 'PE': 15, 'PF': 25, 'PG': 32, 'PK': 10}}\n",
      "睡着的国王的故事\n",
      "{'Title': '睡着的国王的故事', 'Content': {'NB': 65, 'NC': 9, 'ND': 34, 'NE': 28, 'NG': 4, 'NH': 1, 'NI': 3, 'NL': 12, 'PA': 72, 'PB': 20, 'PC': 5, 'PD': 20, 'PE': 14, 'PF': 4, 'PG': 25, 'PK': 20}}\n",
      "狐狸和狼\n",
      "{'Title': '狐狸和狼', 'Content': {'NB': 55, 'NC': 21, 'ND': 59, 'NE': 34, 'NG': 1, 'NH': 20, 'NI': 8, 'NL': 21, 'PA': 58, 'PB': 39, 'PC': 9, 'PD': 39, 'PE': 30, 'PF': 6, 'PG': 47, 'PK': 7}}\n"
     ]
    }
   ],
   "source": [
    "data_for_vis = []\n",
    "for title in temp_dicts.keys():\n",
    "    print(title)\n",
    "    emotion_df = temp_dicts[title]\n",
    "    #print(emotion_df)\n",
    "    data_vis_dict = data_vis_data_process(title, emotion_df)\n",
    "    data_for_vis.append(data_vis_dict)"
   ]
  },
  {
   "cell_type": "code",
   "execution_count": 114,
   "metadata": {},
   "outputs": [
    {
     "name": "stdout",
     "output_type": "stream",
     "text": [
      "[{'Title': '乌木马的故事', 'Content': {'NB': 29, 'NC': 10, 'ND': 24, 'NE': 23, 'NG': 1, 'NH': 7, 'NI': 13, 'NL': 6, 'PA': 67, 'PB': 15, 'PC': 17, 'PD': 21, 'PE': 13, 'PF': 7, 'PG': 23, 'PK': 28}}, {'Title': '海姑娘和她儿子的故事', 'Content': {'NB': 49, 'NC': 23, 'ND': 25, 'NE': 39, 'NG': 3, 'NH': 2, 'NI': 17, 'NL': 12, 'PA': 105, 'PB': 82, 'PC': 25, 'PD': 51, 'PE': 25, 'PF': 16, 'PG': 41, 'PK': 44}}, {'Title': '苏尔克和伊波丽莎', 'Content': {'NB': 55, 'NC': 21, 'ND': 67, 'NE': 42, 'NG': 10, 'NH': 8, 'NI': 10, 'NL': 29, 'PA': 85, 'PB': 50, 'PC': 25, 'PD': 51, 'PE': 21, 'PF': 11, 'PG': 42, 'PK': 19}}, {'Title': '银匠的神奇经历', 'Content': {'NB': 66, 'NC': 30, 'ND': 42, 'NE': 46, 'NH': 8, 'NI': 15, 'NK': 1, 'NL': 12, 'PA': 128, 'PB': 48, 'PC': 31, 'PD': 34, 'PE': 30, 'PF': 11, 'PG': 42, 'PK': 22}}, {'Title': '麦仑', 'Content': {'NB': 43, 'NC': 9, 'ND': 26, 'NE': 33, 'NG': 4, 'NH': 5, 'NI': 15, 'NK': 2, 'NL': 16, 'PA': 78, 'PB': 65, 'PC': 9, 'PD': 27, 'PE': 12, 'PF': 11, 'PG': 26, 'PK': 21}}, {'Title': '孔马康出走他乡', 'Content': {'NB': 66, 'NC': 21, 'ND': 59, 'NE': 71, 'NG': 3, 'NH': 7, 'NI': 27, 'NL': 16, 'PA': 111, 'PB': 91, 'PC': 19, 'PD': 46, 'PE': 21, 'PF': 31, 'PG': 41, 'PK': 29}}, {'Title': '渔翁、魔鬼和比目鱼的故事', 'Content': {'NB': 71, 'NC': 16, 'ND': 65, 'NE': 31, 'NG': 1, 'NI': 6, 'NL': 8, 'PA': 62, 'PB': 16, 'PC': 25, 'PD': 24, 'PE': 9, 'PF': 5, 'PG': 31, 'PK': 15}}, {'Title': '阿拉丁和灯神的故事(续)', 'Content': {'NB': 11, 'NC': 7, 'ND': 23, 'NE': 11, 'NH': 2, 'NI': 5, 'NK': 7, 'NL': 8, 'PA': 124, 'PB': 52, 'PC': 21, 'PD': 55, 'PE': 7, 'PF': 5, 'PG': 29, 'PK': 9}}, {'Title': '宰曼和白杜尔', 'Content': {'NB': 53, 'NC': 18, 'ND': 26, 'NE': 46, 'NG': 4, 'NH': 3, 'NI': 19, 'NL': 10, 'PA': 89, 'PB': 35, 'PC': 30, 'PD': 70, 'PE': 10, 'PF': 15, 'PG': 48, 'PK': 8}}, {'Title': '阿里巴巴和四十大盗', 'Content': {'NB': 35, 'NC': 27, 'ND': 71, 'NE': 25, 'NH': 3, 'NI': 13, 'NK': 4, 'NL': 9, 'PA': 79, 'PB': 27, 'PC': 22, 'PD': 27, 'PE': 15, 'PF': 25, 'PG': 32, 'PK': 10}}, {'Title': '睡着的国王的故事', 'Content': {'NB': 65, 'NC': 9, 'ND': 34, 'NE': 28, 'NG': 4, 'NH': 1, 'NI': 3, 'NL': 12, 'PA': 72, 'PB': 20, 'PC': 5, 'PD': 20, 'PE': 14, 'PF': 4, 'PG': 25, 'PK': 20}}, {'Title': '狐狸和狼', 'Content': {'NB': 55, 'NC': 21, 'ND': 59, 'NE': 34, 'NG': 1, 'NH': 20, 'NI': 8, 'NL': 21, 'PA': 58, 'PB': 39, 'PC': 9, 'PD': 39, 'PE': 30, 'PF': 6, 'PG': 47, 'PK': 7}}]\n"
     ]
    }
   ],
   "source": [
    "print(data_for_vis)"
   ]
  },
  {
   "cell_type": "code",
   "execution_count": 115,
   "metadata": {},
   "outputs": [
    {
     "data": {
      "text/plain": [
       "'[{\"Title\": \"乌木马的故事\", \"Content\": {\"NB\": 29, \"NC\": 10, \"ND\": 24, \"NE\": 23, \"NG\": 1, \"NH\": 7, \"NI\": 13, \"NL\": 6, \"PA\": 67, \"PB\": 15, \"PC\": 17, \"PD\": 21, \"PE\": 13, \"PF\": 7, \"PG\": 23, \"PK\": 28}}, {\"Title\": \"海姑娘和她儿子的故事\", \"Content\": {\"NB\": 49, \"NC\": 23, \"ND\": 25, \"NE\": 39, \"NG\": 3, \"NH\": 2, \"NI\": 17, \"NL\": 12, \"PA\": 105, \"PB\": 82, \"PC\": 25, \"PD\": 51, \"PE\": 25, \"PF\": 16, \"PG\": 41, \"PK\": 44}}, {\"Title\": \"苏尔克和伊波丽莎\", \"Content\": {\"NB\": 55, \"NC\": 21, \"ND\": 67, \"NE\": 42, \"NG\": 10, \"NH\": 8, \"NI\": 10, \"NL\": 29, \"PA\": 85, \"PB\": 50, \"PC\": 25, \"PD\": 51, \"PE\": 21, \"PF\": 11, \"PG\": 42, \"PK\": 19}}, {\"Title\": \"银匠的神奇经历\", \"Content\": {\"NB\": 66, \"NC\": 30, \"ND\": 42, \"NE\": 46, \"NH\": 8, \"NI\": 15, \"NK\": 1, \"NL\": 12, \"PA\": 128, \"PB\": 48, \"PC\": 31, \"PD\": 34, \"PE\": 30, \"PF\": 11, \"PG\": 42, \"PK\": 22}}, {\"Title\": \"麦仑\", \"Content\": {\"NB\": 43, \"NC\": 9, \"ND\": 26, \"NE\": 33, \"NG\": 4, \"NH\": 5, \"NI\": 15, \"NK\": 2, \"NL\": 16, \"PA\": 78, \"PB\": 65, \"PC\": 9, \"PD\": 27, \"PE\": 12, \"PF\": 11, \"PG\": 26, \"PK\": 21}}, {\"Title\": \"孔马康出走他乡\", \"Content\": {\"NB\": 66, \"NC\": 21, \"ND\": 59, \"NE\": 71, \"NG\": 3, \"NH\": 7, \"NI\": 27, \"NL\": 16, \"PA\": 111, \"PB\": 91, \"PC\": 19, \"PD\": 46, \"PE\": 21, \"PF\": 31, \"PG\": 41, \"PK\": 29}}, {\"Title\": \"渔翁、魔鬼和比目鱼的故事\", \"Content\": {\"NB\": 71, \"NC\": 16, \"ND\": 65, \"NE\": 31, \"NG\": 1, \"NI\": 6, \"NL\": 8, \"PA\": 62, \"PB\": 16, \"PC\": 25, \"PD\": 24, \"PE\": 9, \"PF\": 5, \"PG\": 31, \"PK\": 15}}, {\"Title\": \"阿拉丁和灯神的故事(续)\", \"Content\": {\"NB\": 11, \"NC\": 7, \"ND\": 23, \"NE\": 11, \"NH\": 2, \"NI\": 5, \"NK\": 7, \"NL\": 8, \"PA\": 124, \"PB\": 52, \"PC\": 21, \"PD\": 55, \"PE\": 7, \"PF\": 5, \"PG\": 29, \"PK\": 9}}, {\"Title\": \"宰曼和白杜尔\", \"Content\": {\"NB\": 53, \"NC\": 18, \"ND\": 26, \"NE\": 46, \"NG\": 4, \"NH\": 3, \"NI\": 19, \"NL\": 10, \"PA\": 89, \"PB\": 35, \"PC\": 30, \"PD\": 70, \"PE\": 10, \"PF\": 15, \"PG\": 48, \"PK\": 8}}, {\"Title\": \"阿里巴巴和四十大盗\", \"Content\": {\"NB\": 35, \"NC\": 27, \"ND\": 71, \"NE\": 25, \"NH\": 3, \"NI\": 13, \"NK\": 4, \"NL\": 9, \"PA\": 79, \"PB\": 27, \"PC\": 22, \"PD\": 27, \"PE\": 15, \"PF\": 25, \"PG\": 32, \"PK\": 10}}, {\"Title\": \"睡着的国王的故事\", \"Content\": {\"NB\": 65, \"NC\": 9, \"ND\": 34, \"NE\": 28, \"NG\": 4, \"NH\": 1, \"NI\": 3, \"NL\": 12, \"PA\": 72, \"PB\": 20, \"PC\": 5, \"PD\": 20, \"PE\": 14, \"PF\": 4, \"PG\": 25, \"PK\": 20}}, {\"Title\": \"狐狸和狼\", \"Content\": {\"NB\": 55, \"NC\": 21, \"ND\": 59, \"NE\": 34, \"NG\": 1, \"NH\": 20, \"NI\": 8, \"NL\": 21, \"PA\": 58, \"PB\": 39, \"PC\": 9, \"PD\": 39, \"PE\": 30, \"PF\": 6, \"PG\": 47, \"PK\": 7}}]'"
      ]
     },
     "execution_count": 115,
     "metadata": {},
     "output_type": "execute_result"
    }
   ],
   "source": [
    "json.dumps(data_for_vis,ensure_ascii=False)"
   ]
  },
  {
   "cell_type": "code",
   "execution_count": 116,
   "metadata": {},
   "outputs": [
    {
     "ename": "NameError",
     "evalue": "name 'd' is not defined",
     "output_type": "error",
     "traceback": [
      "\u001b[0;31m---------------------------------------------------------------------------\u001b[0m",
      "\u001b[0;31mNameError\u001b[0m                                 Traceback (most recent call last)",
      "\u001b[0;32m<ipython-input-116-7d86a3e6b3e7>\u001b[0m in \u001b[0;36m<module>\u001b[0;34m()\u001b[0m\n\u001b[0;32m----> 1\u001b[0;31m \u001b[0md\u001b[0m\u001b[0;34m.\u001b[0m\u001b[0mContent\u001b[0m\u001b[0;34m.\u001b[0m\u001b[0mNB\u001b[0m\u001b[0;34m+\u001b[0m\u001b[0md\u001b[0m\u001b[0;34m.\u001b[0m\u001b[0mContent\u001b[0m\u001b[0;34m.\u001b[0m\u001b[0mNC\u001b[0m\u001b[0;34m+\u001b[0m\u001b[0md\u001b[0m\u001b[0;34m.\u001b[0m\u001b[0mContent\u001b[0m\u001b[0;34m.\u001b[0m\u001b[0mND\u001b[0m\u001b[0;34m+\u001b[0m\u001b[0md\u001b[0m\u001b[0;34m.\u001b[0m\u001b[0mContent\u001b[0m\u001b[0;34m.\u001b[0m\u001b[0mNE\u001b[0m\u001b[0;34m+\u001b[0m\u001b[0md\u001b[0m\u001b[0;34m.\u001b[0m\u001b[0mContent\u001b[0m\u001b[0;34m.\u001b[0m\u001b[0mNG\u001b[0m\u001b[0;34m\u001b[0m\u001b[0m\n\u001b[0m\u001b[1;32m      2\u001b[0m \u001b[0;34m+\u001b[0m\u001b[0md\u001b[0m\u001b[0;34m.\u001b[0m\u001b[0mContent\u001b[0m\u001b[0;34m.\u001b[0m\u001b[0mNH\u001b[0m\u001b[0;34m+\u001b[0m\u001b[0md\u001b[0m\u001b[0;34m.\u001b[0m\u001b[0mContent\u001b[0m\u001b[0;34m.\u001b[0m\u001b[0mNI\u001b[0m\u001b[0;34m+\u001b[0m\u001b[0md\u001b[0m\u001b[0;34m.\u001b[0m\u001b[0mContent\u001b[0m\u001b[0;34m.\u001b[0m\u001b[0mNJ\u001b[0m\u001b[0;34m+\u001b[0m\u001b[0md\u001b[0m\u001b[0;34m.\u001b[0m\u001b[0mContent\u001b[0m\u001b[0;34m.\u001b[0m\u001b[0mNL\u001b[0m\u001b[0;34m\u001b[0m\u001b[0m\n\u001b[1;32m      3\u001b[0m \u001b[0;34m+\u001b[0m\u001b[0md\u001b[0m\u001b[0;34m.\u001b[0m\u001b[0mContent\u001b[0m\u001b[0;34m.\u001b[0m\u001b[0mPA\u001b[0m\u001b[0;34m+\u001b[0m\u001b[0md\u001b[0m\u001b[0;34m.\u001b[0m\u001b[0mContent\u001b[0m\u001b[0;34m.\u001b[0m\u001b[0mPB\u001b[0m\u001b[0;34m+\u001b[0m\u001b[0md\u001b[0m\u001b[0;34m.\u001b[0m\u001b[0mContent\u001b[0m\u001b[0;34m.\u001b[0m\u001b[0mPC\u001b[0m\u001b[0;34m+\u001b[0m\u001b[0md\u001b[0m\u001b[0;34m.\u001b[0m\u001b[0mContent\u001b[0m\u001b[0;34m.\u001b[0m\u001b[0mPD\u001b[0m\u001b[0;34m+\u001b[0m\u001b[0md\u001b[0m\u001b[0;34m.\u001b[0m\u001b[0mContent\u001b[0m\u001b[0;34m.\u001b[0m\u001b[0mPE\u001b[0m\u001b[0;34m\u001b[0m\u001b[0m\n\u001b[1;32m      4\u001b[0m \u001b[0;34m+\u001b[0m\u001b[0md\u001b[0m\u001b[0;34m.\u001b[0m\u001b[0mContent\u001b[0m\u001b[0;34m.\u001b[0m\u001b[0mPF\u001b[0m\u001b[0;34m+\u001b[0m\u001b[0md\u001b[0m\u001b[0;34m.\u001b[0m\u001b[0mContent\u001b[0m\u001b[0;34m.\u001b[0m\u001b[0mPG\u001b[0m\u001b[0;34m+\u001b[0m\u001b[0md\u001b[0m\u001b[0;34m.\u001b[0m\u001b[0mContent\u001b[0m\u001b[0;34m.\u001b[0m\u001b[0mPK\u001b[0m\u001b[0;34m\u001b[0m\u001b[0m\n",
      "\u001b[0;31mNameError\u001b[0m: name 'd' is not defined"
     ]
    }
   ],
   "source": [
    "d.Content.NB+d.Content.NC+d.Content.ND+d.Content.NE+d.Content.NG\n",
    "+d.Content.NH+d.Content.NI+d.Content.NJ+d.Content.NL\n",
    "+d.Content.PA+d.Content.PB+d.Content.PC+d.Content.PD+d.Content.PE\n",
    "+d.Content.PF+d.Content.PG+d.Content.PK"
   ]
  },
  {
   "cell_type": "code",
   "execution_count": null,
   "metadata": {},
   "outputs": [],
   "source": [
    "NB:\"#82ccdd\",NC:\"#60a3bc\",ND:\"#3c6382\",NE:\"#0a3d62\",NG:\"#0c2461\",\n",
    "NH:\"#1e3799\",NI:\"#4a69bd\",NJ:\"#6a89cc\",NL:\"#38ada9\",\n",
    "PA:\"#f8c291\",PB:\"#e55039\",PC:\"#eb2f06\",PD:\"#b71540\",PE:\"#e58e26\",\n",
    "PF:\"#fa983a\",PG:\"#fad390\",PK:\"#b8e994\"\n"
   ]
  },
  {
   "cell_type": "code",
   "execution_count": null,
   "metadata": {},
   "outputs": [],
   "source": [
    "'NB', 'NC', 'ND', 'NE', 'NG', 'NH', 'NI', 'NJ', 'NL', \n",
    "'PA', 'PB', 'PC', 'PD', 'PE', 'PF', 'PG','PK'"
   ]
  },
  {
   "cell_type": "code",
   "execution_count": null,
   "metadata": {},
   "outputs": [],
   "source": [
    "{\"NB\": 29, \"NC\": 10, \"ND\": 24, \"NE\": 23, \"NG\": 1, \n",
    " \"NH\": 7, \"NI\": 13, \"NJ\": 3, \"NL\": 6, \n",
    " \"PA\": 67, \"PB\": 15, \"PC\": 17, \"PD\": 21, \"PE\": 13,\n",
    " \"PF\": 7, \"PG\": 23, \"PH \": 17, \"PK\": 28}}"
   ]
  }
 ],
 "metadata": {
  "kernelspec": {
   "display_name": "Python 3",
   "language": "python",
   "name": "python3"
  },
  "language_info": {
   "codemirror_mode": {
    "name": "ipython",
    "version": 3
   },
   "file_extension": ".py",
   "mimetype": "text/x-python",
   "name": "python",
   "nbconvert_exporter": "python",
   "pygments_lexer": "ipython3",
   "version": "3.6.5"
  }
 },
 "nbformat": 4,
 "nbformat_minor": 2
}
