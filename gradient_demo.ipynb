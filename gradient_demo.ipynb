{
 "cells": [
  {
   "cell_type": "code",
   "execution_count": 38,
   "metadata": {},
   "outputs": [],
   "source": [
    "import numpy as np\n",
    "import matplotlib as mpl\n",
    "import matplotlib.pyplot as plt"
   ]
  },
  {
   "cell_type": "code",
   "execution_count": 39,
   "metadata": {},
   "outputs": [],
   "source": [
    "mpl.rcParams['font.family'] = 'sans-serif'\n",
    "mpl.rcParams['font.sans-serif'] = 'SimHei'\n",
    "mpl.rcParams['axes.unicode_minus'] = False"
   ]
  },
  {
   "cell_type": "markdown",
   "metadata": {},
   "source": [
    "## 构建一维元素图像（函数）"
   ]
  },
  {
   "cell_type": "code",
   "execution_count": 40,
   "metadata": {},
   "outputs": [],
   "source": [
    "#函数\n",
    "def f1(x):\n",
    "    return 0.5 * ( x - 0.25 ) ** 2"
   ]
  },
  {
   "cell_type": "code",
   "execution_count": 41,
   "metadata": {},
   "outputs": [],
   "source": [
    "#导数\n",
    "def h1(x):\n",
    "    return 0.5 * 2 * (x-0.25)"
   ]
  },
  {
   "cell_type": "markdown",
   "metadata": {},
   "source": [
    "## 使用梯度下降法求解"
   ]
  },
  {
   "cell_type": "code",
   "execution_count": 42,
   "metadata": {},
   "outputs": [],
   "source": [
    "GD_X = []\n",
    "GD_Y = []\n",
    "x = 4 #给定一个初始值 相当于x0\n",
    "alpha = 0.5 #Step学习的步长"
   ]
  },
  {
   "cell_type": "code",
   "execution_count": 43,
   "metadata": {},
   "outputs": [],
   "source": [
    "f_change = f1(x) #相当于y0\n",
    "f_current = f_change\n",
    "GD_X.append(x)\n",
    "GD_Y.append(f_current)\n"
   ]
  },
  {
   "cell_type": "markdown",
   "metadata": {},
   "source": [
    "## 迭代次数"
   ]
  },
  {
   "cell_type": "code",
   "execution_count": 44,
   "metadata": {},
   "outputs": [],
   "source": [
    "iter_num = 0"
   ]
  },
  {
   "cell_type": "code",
   "execution_count": 45,
   "metadata": {},
   "outputs": [
    {
     "name": "stdout",
     "output_type": "stream",
     "text": [
      "最终结果：0.25000715255737305和2.5579538487363607e-11\n",
      "迭代次数：19\n",
      "[4, 2.125, 1.1875, 0.71875, 0.484375, 0.3671875, 0.30859375, 0.279296875, 0.2646484375, 0.25732421875, 0.253662109375, 0.2518310546875, 0.25091552734375, 0.250457763671875, 0.2502288818359375, 0.25011444091796875, 0.2500572204589844, 0.2500286102294922, 0.2500143051147461, 0.25000715255737305]\n"
     ]
    }
   ],
   "source": [
    "while f_change > 1e-10 and iter_num<100: #1e-10 ：1的负10次方\n",
    "    iter_num += 1\n",
    "    x = x-alpha * h1(x) #x相当于x1\n",
    "    tmp = f1(x) #tmp相当于y1\n",
    "    #判断y值的变化，不能太小\n",
    "    f_change = np.abs(f_current - tmp)\n",
    "    f_current = tmp\n",
    "    GD_X.append(x)\n",
    "    GD_Y.append(f_current)\n",
    "print(u'最终结果：{}和{}'.format(x,f_current))\n",
    "print(u'迭代次数：{}'.format(iter_num))\n",
    "print(GD_X)    \n",
    "    \n",
    "    "
   ]
  },
  {
   "cell_type": "markdown",
   "metadata": {},
   "source": [
    "## 构建数据\n"
   ]
  },
  {
   "cell_type": "code",
   "execution_count": 46,
   "metadata": {},
   "outputs": [],
   "source": [
    "X = np.arange(-4,4.5,0.05)\n",
    "Y = np.array(list(map(lambda t: f1(t),X)))\n"
   ]
  },
  {
   "cell_type": "code",
   "execution_count": 48,
   "metadata": {},
   "outputs": [
    {
     "name": "stderr",
     "output_type": "stream",
     "text": [
      "/anaconda3/lib/python3.6/site-packages/matplotlib/font_manager.py:1328: UserWarning: findfont: Font family ['sans-serif'] not found. Falling back to DejaVu Sans\n",
      "  (prop.get_family(), self.defaultFamily[fontext]))\n",
      "/anaconda3/lib/python3.6/site-packages/matplotlib/mathtext.py:849: MathTextWarning: Font 'default' does not have a glyph for '\\u51fd' [U+51fd]\n",
      "  MathTextWarning)\n",
      "/anaconda3/lib/python3.6/site-packages/matplotlib/mathtext.py:850: MathTextWarning: Substituting with a dummy symbol.\n",
      "  warn(\"Substituting with a dummy symbol.\", MathTextWarning)\n",
      "/anaconda3/lib/python3.6/site-packages/matplotlib/mathtext.py:849: MathTextWarning: Font 'default' does not have a glyph for '\\u6570' [U+6570]\n",
      "  MathTextWarning)\n"
     ]
    },
    {
     "data": {
      "image/png": "[encoded data removed]",
      "text/plain": [
       "<Figure size 432x288 with 1 Axes>"
      ]
     },
     "metadata": {},
     "output_type": "display_data"
    }
   ],
   "source": [
    "#Draw\n",
    "plt.figure(facecolor = 'w')\n",
    "plt.plot(X,Y,'r-',linewidth = 2)\n",
    "plt.plot(GD_X,GD_Y,'bo--',linewidth = 2)\n",
    "plt.title(u'函数$y=0.5*(x-0.25)^2$\\n学习率：{} 最终解：{}{}; 迭代次数：{}'.format(alpha, x, f_current,iter_num))\n",
    "plt.show()"
   ]
  },
  {
   "cell_type": "code",
   "execution_count": null,
   "metadata": {},
   "outputs": [],
   "source": []
  }
 ],
 "metadata": {
  "kernelspec": {
   "display_name": "Python 3",
   "language": "python",
   "name": "python3"
  },
  "language_info": {
   "codemirror_mode": {
    "name": "ipython",
    "version": 3
   },
   "file_extension": ".py",
   "mimetype": "text/x-python",
   "name": "python",
   "nbconvert_exporter": "python",
   "pygments_lexer": "ipython3",
   "version": "3.6.5"
  }
 },
 "nbformat": 4,
 "nbformat_minor": 2
}
