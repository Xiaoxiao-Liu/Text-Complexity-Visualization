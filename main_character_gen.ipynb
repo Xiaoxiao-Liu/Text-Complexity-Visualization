{
 "cells": [
  {
   "cell_type": "code",
   "execution_count": 2,
   "metadata": {},
   "outputs": [],
   "source": [
    "from pymysql import *\n",
    "import pandas as pd\n",
    "#import color_generatior as cg\n",
    "import pandas as pd\n",
    "import numpy as np\n",
    "import time\n"
   ]
  },
  {
   "cell_type": "code",
   "execution_count": 3,
   "metadata": {},
   "outputs": [],
   "source": [
    "\n",
    "def emo_sql_read():\n",
    "    conn = connect(host='121.40.208.170', port=3306, user='root', password='123456', database='Text_Project')\n",
    "    # 获得cursor对象\n",
    "    emo_cursor = conn.cursor()\n",
    "    #emo_cursor.execute(\"SHOW COLUMNS FROM word_table\")\n",
    "    emo_cursor.execute(\"SELECT DISTINCT w.word, w.property,w.chinese_property, w.importance FROM word_table w ;\")\n",
    "    #emo_cursor.execute(\"SELECT DISTINCT  w.word, w.property,w.chinese_property, w.importance,w.emotion FROM word_table w join sentence_table s on w.sentence_id=s.sentence_id join(select *from text_table where text_title=\"+title+\") t on s.text_id=t.text_id;\")\n",
    "    story_data = emo_cursor.fetchall()\n",
    "    return story_data\n"
   ]
  },
  {
   "cell_type": "code",
   "execution_count": 4,
   "metadata": {},
   "outputs": [],
   "source": [
    "start = time.time()\n",
    "x = emo_sql_read()\n",
    "end = time.time()\n",
    "time = end - start"
   ]
  },
  {
   "cell_type": "code",
   "execution_count": 5,
   "metadata": {},
   "outputs": [
    {
     "data": {
      "text/plain": [
       "87.43014788627625"
      ]
     },
     "execution_count": 5,
     "metadata": {},
     "output_type": "execute_result"
    }
   ],
   "source": [
    "time"
   ]
  },
  {
   "cell_type": "code",
   "execution_count": 6,
   "metadata": {},
   "outputs": [
    {
     "data": {
      "text/plain": [
       "228314"
      ]
     },
     "execution_count": 6,
     "metadata": {},
     "output_type": "execute_result"
    }
   ],
   "source": [
    "len(x)"
   ]
  },
  {
   "cell_type": "code",
   "execution_count": 7,
   "metadata": {},
   "outputs": [],
   "source": [
    "word = []\n",
    "properties = []\n",
    "importance = []\n",
    "chinese_prop = []\n",
    "\n",
    "for tup in x:\n",
    "    word.append(tup[0])\n",
    "    properties.append(tup[1])\n",
    "    chinese_prop.append(tup[2])\n",
    "    importance.append(tup[3])\n",
    "   "
   ]
  },
  {
   "cell_type": "code",
   "execution_count": 8,
   "metadata": {},
   "outputs": [],
   "source": [
    "df = pd.DataFrame()\n",
    "df['word'] = word\n",
    "df['property'] = properties\n",
    "df['chinese_prop'] = chinese_prop\n",
    "df['importance'] = importance\n"
   ]
  },
  {
   "cell_type": "code",
   "execution_count": 25,
   "metadata": {},
   "outputs": [
    {
     "data": {
      "text/plain": [
       "228314"
      ]
     },
     "execution_count": 25,
     "metadata": {},
     "output_type": "execute_result"
    }
   ],
   "source": [
    "len(df)"
   ]
  },
  {
   "cell_type": "code",
   "execution_count": 8,
   "metadata": {},
   "outputs": [],
   "source": [
    "#df['property'].unique()"
   ]
  },
  {
   "cell_type": "code",
   "execution_count": 9,
   "metadata": {},
   "outputs": [],
   "source": [
    "#df['chinese_prop'].unique()"
   ]
  },
  {
   "cell_type": "code",
   "execution_count": 10,
   "metadata": {},
   "outputs": [],
   "source": [
    "#df"
   ]
  },
  {
   "cell_type": "code",
   "execution_count": 11,
   "metadata": {},
   "outputs": [],
   "source": [
    "#df.loc[df['chinese_prop']=='名词']"
   ]
  },
  {
   "cell_type": "code",
   "execution_count": null,
   "metadata": {},
   "outputs": [],
   "source": [
    "'''df.loc[(df['chinese_prop']=='名词')|(df['chinese_prop']=='人名')|(df['chinese_prop']=='外国人名')|\n",
    "       (df['chinese_prop']=='其他专名')]'''"
   ]
  },
  {
   "cell_type": "code",
   "execution_count": 271,
   "metadata": {},
   "outputs": [
    {
     "data": {
      "text/html": [
       "<div>\n",
       "<style scoped>\n",
       "    .dataframe tbody tr th:only-of-type {\n",
       "        vertical-align: middle;\n",
       "    }\n",
       "\n",
       "    .dataframe tbody tr th {\n",
       "        vertical-align: top;\n",
       "    }\n",
       "\n",
       "    .dataframe thead th {\n",
       "        text-align: right;\n",
       "    }\n",
       "</style>\n",
       "<table border=\"1\" class=\"dataframe\">\n",
       "  <thead>\n",
       "    <tr style=\"text-align: right;\">\n",
       "      <th></th>\n",
       "      <th>word</th>\n",
       "      <th>property</th>\n",
       "      <th>chinese_prop</th>\n",
       "      <th>importance</th>\n",
       "      <th>emotion</th>\n",
       "    </tr>\n",
       "  </thead>\n",
       "  <tbody>\n",
       "    <tr>\n",
       "      <th>0</th>\n",
       "      <td>从前</td>\n",
       "      <td>t</td>\n",
       "      <td>时间词</td>\n",
       "      <td>0.057</td>\n",
       "      <td>None</td>\n",
       "    </tr>\n",
       "    <tr>\n",
       "      <th>1</th>\n",
       "      <td>印度</td>\n",
       "      <td>ns</td>\n",
       "      <td>地名</td>\n",
       "      <td>0.021</td>\n",
       "      <td>None</td>\n",
       "    </tr>\n",
       "    <tr>\n",
       "      <th>2</th>\n",
       "      <td>有个</td>\n",
       "      <td>r</td>\n",
       "      <td>代词</td>\n",
       "      <td>0.057</td>\n",
       "      <td>None</td>\n",
       "    </tr>\n",
       "    <tr>\n",
       "      <th>3</th>\n",
       "      <td>国王</td>\n",
       "      <td>n</td>\n",
       "      <td>名词</td>\n",
       "      <td>0.498</td>\n",
       "      <td>None</td>\n",
       "    </tr>\n",
       "    <tr>\n",
       "      <th>4</th>\n",
       "      <td>杰</td>\n",
       "      <td>nr</td>\n",
       "      <td>人名</td>\n",
       "      <td>0.0</td>\n",
       "      <td>None</td>\n",
       "    </tr>\n",
       "  </tbody>\n",
       "</table>\n",
       "</div>"
      ],
      "text/plain": [
       "  word property chinese_prop importance emotion\n",
       "0   从前        t          时间词      0.057    None\n",
       "1   印度       ns           地名      0.021    None\n",
       "2   有个        r           代词      0.057    None\n",
       "3   国王        n           名词      0.498    None\n",
       "4    杰       nr           人名        0.0    None"
      ]
     },
     "execution_count": 271,
     "metadata": {},
     "output_type": "execute_result"
    }
   ],
   "source": [
    "#df.head()"
   ]
  },
  {
   "cell_type": "code",
   "execution_count": 26,
   "metadata": {},
   "outputs": [],
   "source": [
    "new_df = df.loc[(df['chinese_prop']=='名词')|(df['chinese_prop']=='人名')|(df['chinese_prop']=='外国人名')|\n",
    "       (df['chinese_prop']=='其他专名')].sort_values(\"importance\",ascending=False)\n",
    "#print(new_df['word'][0:10])"
   ]
  },
  {
   "cell_type": "code",
   "execution_count": 27,
   "metadata": {},
   "outputs": [],
   "source": [
    "new_importance = new_df['importance'].apply(float)"
   ]
  },
  {
   "cell_type": "code",
   "execution_count": 28,
   "metadata": {},
   "outputs": [],
   "source": [
    "new_df['importance'] = new_importance"
   ]
  },
  {
   "cell_type": "code",
   "execution_count": 35,
   "metadata": {},
   "outputs": [
    {
     "data": {
      "text/plain": [
       "1558"
      ]
     },
     "execution_count": 35,
     "metadata": {},
     "output_type": "execute_result"
    }
   ],
   "source": [
    "word_results = new_df.loc[new_df['importance'] > 0 ]\n",
    "len(word_results)"
   ]
  },
  {
   "cell_type": "code",
   "execution_count": 36,
   "metadata": {},
   "outputs": [
    {
     "data": {
      "text/plain": [
       "1558"
      ]
     },
     "execution_count": 36,
     "metadata": {},
     "output_type": "execute_result"
    }
   ],
   "source": [
    "word_results['word'].unique()\n",
    "len(word_results)"
   ]
  },
  {
   "cell_type": "code",
   "execution_count": 39,
   "metadata": {},
   "outputs": [
    {
     "data": {
      "text/plain": [
       "1558"
      ]
     },
     "execution_count": 39,
     "metadata": {},
     "output_type": "execute_result"
    }
   ],
   "source": [
    "len(word_results['word'].unique())"
   ]
  },
  {
   "cell_type": "code",
   "execution_count": 37,
   "metadata": {},
   "outputs": [],
   "source": [
    "word_results.to_excel('images.xlsx')"
   ]
  },
  {
   "cell_type": "code",
   "execution_count": 303,
   "metadata": {},
   "outputs": [
    {
     "data": {
      "text/plain": [
       "pandas.core.frame.DataFrame"
      ]
     },
     "execution_count": 303,
     "metadata": {},
     "output_type": "execute_result"
    }
   ],
   "source": [
    "a = new_df.groupby('word').size().reset_index()\n",
    "type(a)"
   ]
  },
  {
   "cell_type": "code",
   "execution_count": 304,
   "metadata": {},
   "outputs": [
    {
     "data": {
      "text/plain": [
       "array([1])"
      ]
     },
     "execution_count": 304,
     "metadata": {},
     "output_type": "execute_result"
    }
   ],
   "source": [
    "a[0].unique()"
   ]
  },
  {
   "cell_type": "code",
   "execution_count": null,
   "metadata": {},
   "outputs": [],
   "source": []
  },
  {
   "cell_type": "code",
   "execution_count": 8,
   "metadata": {},
   "outputs": [
    {
     "data": {
      "text/plain": [
       "(('sentence_id', 'int(11)', 'YES', 'MUL', None, ''),\n",
       " ('word_id', 'int(11)', 'NO', 'PRI', None, 'auto_increment'),\n",
       " ('word', 'varchar(255)', 'YES', 'MUL', None, ''),\n",
       " ('property', 'varchar(255)', 'YES', 'MUL', None, ''),\n",
       " ('property_sum', 'float', 'YES', '', None, ''),\n",
       " ('chinese_property', 'varchar(255)', 'YES', '', None, ''),\n",
       " ('emotion', 'varchar(255)', 'YES', 'MUL', None, ''),\n",
       " ('emotion_sum', 'float', 'YES', '', None, ''),\n",
       " ('chinese_emotion', 'varchar(255)', 'YES', 'MUL', None, ''),\n",
       " ('p_n', 'varchar(255)', 'YES', '', None, ''),\n",
       " ('importance', 'varchar(255)', 'YES', '', None, ''),\n",
       " ('importance_sum', 'float(255,0)', 'YES', '', None, ''),\n",
       " ('text_title', 'varchar(50)', 'YES', '', None, ''))"
      ]
     },
     "execution_count": 8,
     "metadata": {},
     "output_type": "execute_result"
    }
   ],
   "source": [
    "x"
   ]
  },
  {
   "cell_type": "code",
   "execution_count": null,
   "metadata": {},
   "outputs": [],
   "source": []
  }
 ],
 "metadata": {
  "kernelspec": {
   "display_name": "Python 3",
   "language": "python",
   "name": "python3"
  },
  "language_info": {
   "codemirror_mode": {
    "name": "ipython",
    "version": 3
   },
   "file_extension": ".py",
   "mimetype": "text/x-python",
   "name": "python",
   "nbconvert_exporter": "python",
   "pygments_lexer": "ipython3",
   "version": "3.6.5"
  }
 },
 "nbformat": 4,
 "nbformat_minor": 2
}
